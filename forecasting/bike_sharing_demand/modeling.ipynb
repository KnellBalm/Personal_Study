{
 "cells": [
  {
   "cell_type": "markdown",
   "id": "777dee35-10eb-4465-a009-bde572595bf6",
   "metadata": {},
   "source": [
    "# 파이썬 머신러닝 완벽 가이드 \n",
    "- 자전거 대여 수요 예측 (p.342~)"
   ]
  },
  {
   "cell_type": "markdown",
   "id": "a22638aa-a58d-4f71-b8b2-1340c2ee87c9",
   "metadata": {},
   "source": [
    "# Libs"
   ]
  },
  {
   "cell_type": "code",
   "execution_count": 13,
   "id": "045737a2-df15-49f6-aa54-f53890a68006",
   "metadata": {},
   "outputs": [],
   "source": [
    "import os\n",
    "import warnings\n",
    "warnings.filterwarnings('ignore')\n",
    "from tqdm import tqdm\n",
    "import logging\n",
    "import numpy as np\n",
    "\n",
    "import pandas as pd\n",
    "pd.set_option('display.max_columns',None)\n",
    "import numpy as np\n",
    "\n",
    "import geopandas as gpd\n",
    "from shapely import Point, LineString, Polygon, MultiPoint\n",
    "from shapely.ops import nearest_points\n",
    "from sklearn.cluster import DBSCAN\n",
    "\n",
    "from tqdm import tqdm\n",
    "tqdm.pandas()\n",
    "\n",
    "# 시각화 라이브러리\n",
    "import matplotlib.pyplot as plt\n",
    "%matplotlib inline\n",
    "import seaborn as sns\n",
    "from matplotlib import font_manager as fm, rc\n",
    "\n",
    "# 한글 폰트 설정\n",
    "font_path = '/usr/local/src/python3.10/lib/python3.10/site-packages/matplotlib/mpl-data/fonts/ttf/KoPub Dotum Medium.ttf'\n",
    "font_name = fm.FontProperties(fname=font_path).get_name()\n",
    "plt.rc('font', family=font_name)"
   ]
  },
  {
   "cell_type": "markdown",
   "id": "55e90c6d-b347-4c0c-ac29-b7bf7c176912",
   "metadata": {},
   "source": [
    "# Data Import"
   ]
  },
  {
   "cell_type": "code",
   "execution_count": 4,
   "id": "d6d9c86f-e22a-4d77-9d39-27d2066bb179",
   "metadata": {},
   "outputs": [],
   "source": [
    "train = pd.read_csv('train.csv')\n",
    "test = pd.read_csv('test.csv')"
   ]
  },
  {
   "cell_type": "markdown",
   "id": "f467e387-301d-4ad7-a583-0b884205afdd",
   "metadata": {},
   "source": [
    "# Goal\n",
    "1. Forecasting count\n",
    "2. Forecasting casual + registerd"
   ]
  },
  {
   "cell_type": "code",
   "execution_count": 5,
   "id": "287cefba-fd7f-42ae-bc95-4c58be1cc246",
   "metadata": {},
   "outputs": [
    {
     "data": {
      "text/html": [
       "<div>\n",
       "<style scoped>\n",
       "    .dataframe tbody tr th:only-of-type {\n",
       "        vertical-align: middle;\n",
       "    }\n",
       "\n",
       "    .dataframe tbody tr th {\n",
       "        vertical-align: top;\n",
       "    }\n",
       "\n",
       "    .dataframe thead th {\n",
       "        text-align: right;\n",
       "    }\n",
       "</style>\n",
       "<table border=\"1\" class=\"dataframe\">\n",
       "  <thead>\n",
       "    <tr style=\"text-align: right;\">\n",
       "      <th></th>\n",
       "      <th>datetime</th>\n",
       "      <th>season</th>\n",
       "      <th>holiday</th>\n",
       "      <th>workingday</th>\n",
       "      <th>weather</th>\n",
       "      <th>temp</th>\n",
       "      <th>atemp</th>\n",
       "      <th>humidity</th>\n",
       "      <th>windspeed</th>\n",
       "      <th>casual</th>\n",
       "      <th>registered</th>\n",
       "      <th>count</th>\n",
       "    </tr>\n",
       "  </thead>\n",
       "  <tbody>\n",
       "    <tr>\n",
       "      <th>0</th>\n",
       "      <td>2011-01-01 00:00:00</td>\n",
       "      <td>1</td>\n",
       "      <td>0</td>\n",
       "      <td>0</td>\n",
       "      <td>1</td>\n",
       "      <td>9.84</td>\n",
       "      <td>14.395</td>\n",
       "      <td>81</td>\n",
       "      <td>0.0</td>\n",
       "      <td>3</td>\n",
       "      <td>13</td>\n",
       "      <td>16</td>\n",
       "    </tr>\n",
       "    <tr>\n",
       "      <th>1</th>\n",
       "      <td>2011-01-01 01:00:00</td>\n",
       "      <td>1</td>\n",
       "      <td>0</td>\n",
       "      <td>0</td>\n",
       "      <td>1</td>\n",
       "      <td>9.02</td>\n",
       "      <td>13.635</td>\n",
       "      <td>80</td>\n",
       "      <td>0.0</td>\n",
       "      <td>8</td>\n",
       "      <td>32</td>\n",
       "      <td>40</td>\n",
       "    </tr>\n",
       "    <tr>\n",
       "      <th>2</th>\n",
       "      <td>2011-01-01 02:00:00</td>\n",
       "      <td>1</td>\n",
       "      <td>0</td>\n",
       "      <td>0</td>\n",
       "      <td>1</td>\n",
       "      <td>9.02</td>\n",
       "      <td>13.635</td>\n",
       "      <td>80</td>\n",
       "      <td>0.0</td>\n",
       "      <td>5</td>\n",
       "      <td>27</td>\n",
       "      <td>32</td>\n",
       "    </tr>\n",
       "    <tr>\n",
       "      <th>3</th>\n",
       "      <td>2011-01-01 03:00:00</td>\n",
       "      <td>1</td>\n",
       "      <td>0</td>\n",
       "      <td>0</td>\n",
       "      <td>1</td>\n",
       "      <td>9.84</td>\n",
       "      <td>14.395</td>\n",
       "      <td>75</td>\n",
       "      <td>0.0</td>\n",
       "      <td>3</td>\n",
       "      <td>10</td>\n",
       "      <td>13</td>\n",
       "    </tr>\n",
       "    <tr>\n",
       "      <th>4</th>\n",
       "      <td>2011-01-01 04:00:00</td>\n",
       "      <td>1</td>\n",
       "      <td>0</td>\n",
       "      <td>0</td>\n",
       "      <td>1</td>\n",
       "      <td>9.84</td>\n",
       "      <td>14.395</td>\n",
       "      <td>75</td>\n",
       "      <td>0.0</td>\n",
       "      <td>0</td>\n",
       "      <td>1</td>\n",
       "      <td>1</td>\n",
       "    </tr>\n",
       "  </tbody>\n",
       "</table>\n",
       "</div>"
      ],
      "text/plain": [
       "              datetime  season  holiday  workingday  weather  temp   atemp  \\\n",
       "0  2011-01-01 00:00:00       1        0           0        1  9.84  14.395   \n",
       "1  2011-01-01 01:00:00       1        0           0        1  9.02  13.635   \n",
       "2  2011-01-01 02:00:00       1        0           0        1  9.02  13.635   \n",
       "3  2011-01-01 03:00:00       1        0           0        1  9.84  14.395   \n",
       "4  2011-01-01 04:00:00       1        0           0        1  9.84  14.395   \n",
       "\n",
       "   humidity  windspeed  casual  registered  count  \n",
       "0        81        0.0       3          13     16  \n",
       "1        80        0.0       8          32     40  \n",
       "2        80        0.0       5          27     32  \n",
       "3        75        0.0       3          10     13  \n",
       "4        75        0.0       0           1      1  "
      ]
     },
     "metadata": {},
     "output_type": "display_data"
    },
    {
     "data": {
      "text/html": [
       "<div>\n",
       "<style scoped>\n",
       "    .dataframe tbody tr th:only-of-type {\n",
       "        vertical-align: middle;\n",
       "    }\n",
       "\n",
       "    .dataframe tbody tr th {\n",
       "        vertical-align: top;\n",
       "    }\n",
       "\n",
       "    .dataframe thead th {\n",
       "        text-align: right;\n",
       "    }\n",
       "</style>\n",
       "<table border=\"1\" class=\"dataframe\">\n",
       "  <thead>\n",
       "    <tr style=\"text-align: right;\">\n",
       "      <th></th>\n",
       "      <th>datetime</th>\n",
       "      <th>season</th>\n",
       "      <th>holiday</th>\n",
       "      <th>workingday</th>\n",
       "      <th>weather</th>\n",
       "      <th>temp</th>\n",
       "      <th>atemp</th>\n",
       "      <th>humidity</th>\n",
       "      <th>windspeed</th>\n",
       "    </tr>\n",
       "  </thead>\n",
       "  <tbody>\n",
       "    <tr>\n",
       "      <th>0</th>\n",
       "      <td>2011-01-20 00:00:00</td>\n",
       "      <td>1</td>\n",
       "      <td>0</td>\n",
       "      <td>1</td>\n",
       "      <td>1</td>\n",
       "      <td>10.66</td>\n",
       "      <td>11.365</td>\n",
       "      <td>56</td>\n",
       "      <td>26.0027</td>\n",
       "    </tr>\n",
       "    <tr>\n",
       "      <th>1</th>\n",
       "      <td>2011-01-20 01:00:00</td>\n",
       "      <td>1</td>\n",
       "      <td>0</td>\n",
       "      <td>1</td>\n",
       "      <td>1</td>\n",
       "      <td>10.66</td>\n",
       "      <td>13.635</td>\n",
       "      <td>56</td>\n",
       "      <td>0.0000</td>\n",
       "    </tr>\n",
       "    <tr>\n",
       "      <th>2</th>\n",
       "      <td>2011-01-20 02:00:00</td>\n",
       "      <td>1</td>\n",
       "      <td>0</td>\n",
       "      <td>1</td>\n",
       "      <td>1</td>\n",
       "      <td>10.66</td>\n",
       "      <td>13.635</td>\n",
       "      <td>56</td>\n",
       "      <td>0.0000</td>\n",
       "    </tr>\n",
       "    <tr>\n",
       "      <th>3</th>\n",
       "      <td>2011-01-20 03:00:00</td>\n",
       "      <td>1</td>\n",
       "      <td>0</td>\n",
       "      <td>1</td>\n",
       "      <td>1</td>\n",
       "      <td>10.66</td>\n",
       "      <td>12.880</td>\n",
       "      <td>56</td>\n",
       "      <td>11.0014</td>\n",
       "    </tr>\n",
       "    <tr>\n",
       "      <th>4</th>\n",
       "      <td>2011-01-20 04:00:00</td>\n",
       "      <td>1</td>\n",
       "      <td>0</td>\n",
       "      <td>1</td>\n",
       "      <td>1</td>\n",
       "      <td>10.66</td>\n",
       "      <td>12.880</td>\n",
       "      <td>56</td>\n",
       "      <td>11.0014</td>\n",
       "    </tr>\n",
       "  </tbody>\n",
       "</table>\n",
       "</div>"
      ],
      "text/plain": [
       "              datetime  season  holiday  workingday  weather   temp   atemp  \\\n",
       "0  2011-01-20 00:00:00       1        0           1        1  10.66  11.365   \n",
       "1  2011-01-20 01:00:00       1        0           1        1  10.66  13.635   \n",
       "2  2011-01-20 02:00:00       1        0           1        1  10.66  13.635   \n",
       "3  2011-01-20 03:00:00       1        0           1        1  10.66  12.880   \n",
       "4  2011-01-20 04:00:00       1        0           1        1  10.66  12.880   \n",
       "\n",
       "   humidity  windspeed  \n",
       "0        56    26.0027  \n",
       "1        56     0.0000  \n",
       "2        56     0.0000  \n",
       "3        56    11.0014  \n",
       "4        56    11.0014  "
      ]
     },
     "metadata": {},
     "output_type": "display_data"
    }
   ],
   "source": [
    "display(train.head())\n",
    "display(test.head())"
   ]
  },
  {
   "cell_type": "markdown",
   "id": "d6c7c8dc-2169-4e50-b0ca-89d4f0e69ece",
   "metadata": {},
   "source": [
    "# EDA\n",
    "- Null None"
   ]
  },
  {
   "cell_type": "code",
   "execution_count": 6,
   "id": "3f21dbd1-c166-4a91-8e0e-2f0830c4ae9c",
   "metadata": {},
   "outputs": [],
   "source": [
    "train['datetime'] = pd.to_datetime(train['datetime'])\n",
    "test['datetime'] = pd.to_datetime(test['datetime'])"
   ]
  },
  {
   "cell_type": "code",
   "execution_count": 7,
   "id": "93c0e89a-8db0-4812-a5ec-7e2b50ebb55d",
   "metadata": {},
   "outputs": [
    {
     "name": "stdout",
     "output_type": "stream",
     "text": [
      "<class 'pandas.core.frame.DataFrame'>\n",
      "RangeIndex: 10886 entries, 0 to 10885\n",
      "Data columns (total 12 columns):\n",
      " #   Column      Non-Null Count  Dtype         \n",
      "---  ------      --------------  -----         \n",
      " 0   datetime    10886 non-null  datetime64[ns]\n",
      " 1   season      10886 non-null  int64         \n",
      " 2   holiday     10886 non-null  int64         \n",
      " 3   workingday  10886 non-null  int64         \n",
      " 4   weather     10886 non-null  int64         \n",
      " 5   temp        10886 non-null  float64       \n",
      " 6   atemp       10886 non-null  float64       \n",
      " 7   humidity    10886 non-null  int64         \n",
      " 8   windspeed   10886 non-null  float64       \n",
      " 9   casual      10886 non-null  int64         \n",
      " 10  registered  10886 non-null  int64         \n",
      " 11  count       10886 non-null  int64         \n",
      "dtypes: datetime64[ns](1), float64(3), int64(8)\n",
      "memory usage: 1020.7 KB\n"
     ]
    }
   ],
   "source": [
    "train.info()"
   ]
  },
  {
   "cell_type": "code",
   "execution_count": 8,
   "id": "2eb50a9f-baae-485a-8580-3d15f4408d50",
   "metadata": {},
   "outputs": [],
   "source": [
    "train['year'] = train['datetime'].dt.year\n",
    "train['month'] = train['datetime'].dt.month\n",
    "train['day'] = train['datetime'].dt.day\n",
    "train['hour'] = train['datetime'].dt.hour"
   ]
  },
  {
   "cell_type": "code",
   "execution_count": 9,
   "id": "d5468d22-73f2-440d-9e93-f13035a78dc1",
   "metadata": {},
   "outputs": [
    {
     "data": {
      "text/html": [
       "<div>\n",
       "<style scoped>\n",
       "    .dataframe tbody tr th:only-of-type {\n",
       "        vertical-align: middle;\n",
       "    }\n",
       "\n",
       "    .dataframe tbody tr th {\n",
       "        vertical-align: top;\n",
       "    }\n",
       "\n",
       "    .dataframe thead th {\n",
       "        text-align: right;\n",
       "    }\n",
       "</style>\n",
       "<table border=\"1\" class=\"dataframe\">\n",
       "  <thead>\n",
       "    <tr style=\"text-align: right;\">\n",
       "      <th></th>\n",
       "      <th>datetime</th>\n",
       "      <th>season</th>\n",
       "      <th>holiday</th>\n",
       "      <th>workingday</th>\n",
       "      <th>weather</th>\n",
       "      <th>temp</th>\n",
       "      <th>atemp</th>\n",
       "      <th>humidity</th>\n",
       "      <th>windspeed</th>\n",
       "      <th>casual</th>\n",
       "      <th>registered</th>\n",
       "      <th>count</th>\n",
       "      <th>year</th>\n",
       "      <th>month</th>\n",
       "      <th>day</th>\n",
       "      <th>hour</th>\n",
       "    </tr>\n",
       "  </thead>\n",
       "  <tbody>\n",
       "    <tr>\n",
       "      <th>0</th>\n",
       "      <td>2011-01-01 00:00:00</td>\n",
       "      <td>1</td>\n",
       "      <td>0</td>\n",
       "      <td>0</td>\n",
       "      <td>1</td>\n",
       "      <td>9.84</td>\n",
       "      <td>14.395</td>\n",
       "      <td>81</td>\n",
       "      <td>0.0000</td>\n",
       "      <td>3</td>\n",
       "      <td>13</td>\n",
       "      <td>16</td>\n",
       "      <td>2011</td>\n",
       "      <td>1</td>\n",
       "      <td>1</td>\n",
       "      <td>0</td>\n",
       "    </tr>\n",
       "    <tr>\n",
       "      <th>1</th>\n",
       "      <td>2011-01-01 01:00:00</td>\n",
       "      <td>1</td>\n",
       "      <td>0</td>\n",
       "      <td>0</td>\n",
       "      <td>1</td>\n",
       "      <td>9.02</td>\n",
       "      <td>13.635</td>\n",
       "      <td>80</td>\n",
       "      <td>0.0000</td>\n",
       "      <td>8</td>\n",
       "      <td>32</td>\n",
       "      <td>40</td>\n",
       "      <td>2011</td>\n",
       "      <td>1</td>\n",
       "      <td>1</td>\n",
       "      <td>1</td>\n",
       "    </tr>\n",
       "    <tr>\n",
       "      <th>2</th>\n",
       "      <td>2011-01-01 02:00:00</td>\n",
       "      <td>1</td>\n",
       "      <td>0</td>\n",
       "      <td>0</td>\n",
       "      <td>1</td>\n",
       "      <td>9.02</td>\n",
       "      <td>13.635</td>\n",
       "      <td>80</td>\n",
       "      <td>0.0000</td>\n",
       "      <td>5</td>\n",
       "      <td>27</td>\n",
       "      <td>32</td>\n",
       "      <td>2011</td>\n",
       "      <td>1</td>\n",
       "      <td>1</td>\n",
       "      <td>2</td>\n",
       "    </tr>\n",
       "    <tr>\n",
       "      <th>3</th>\n",
       "      <td>2011-01-01 03:00:00</td>\n",
       "      <td>1</td>\n",
       "      <td>0</td>\n",
       "      <td>0</td>\n",
       "      <td>1</td>\n",
       "      <td>9.84</td>\n",
       "      <td>14.395</td>\n",
       "      <td>75</td>\n",
       "      <td>0.0000</td>\n",
       "      <td>3</td>\n",
       "      <td>10</td>\n",
       "      <td>13</td>\n",
       "      <td>2011</td>\n",
       "      <td>1</td>\n",
       "      <td>1</td>\n",
       "      <td>3</td>\n",
       "    </tr>\n",
       "    <tr>\n",
       "      <th>4</th>\n",
       "      <td>2011-01-01 04:00:00</td>\n",
       "      <td>1</td>\n",
       "      <td>0</td>\n",
       "      <td>0</td>\n",
       "      <td>1</td>\n",
       "      <td>9.84</td>\n",
       "      <td>14.395</td>\n",
       "      <td>75</td>\n",
       "      <td>0.0000</td>\n",
       "      <td>0</td>\n",
       "      <td>1</td>\n",
       "      <td>1</td>\n",
       "      <td>2011</td>\n",
       "      <td>1</td>\n",
       "      <td>1</td>\n",
       "      <td>4</td>\n",
       "    </tr>\n",
       "    <tr>\n",
       "      <th>...</th>\n",
       "      <td>...</td>\n",
       "      <td>...</td>\n",
       "      <td>...</td>\n",
       "      <td>...</td>\n",
       "      <td>...</td>\n",
       "      <td>...</td>\n",
       "      <td>...</td>\n",
       "      <td>...</td>\n",
       "      <td>...</td>\n",
       "      <td>...</td>\n",
       "      <td>...</td>\n",
       "      <td>...</td>\n",
       "      <td>...</td>\n",
       "      <td>...</td>\n",
       "      <td>...</td>\n",
       "      <td>...</td>\n",
       "    </tr>\n",
       "    <tr>\n",
       "      <th>10881</th>\n",
       "      <td>2012-12-19 19:00:00</td>\n",
       "      <td>4</td>\n",
       "      <td>0</td>\n",
       "      <td>1</td>\n",
       "      <td>1</td>\n",
       "      <td>15.58</td>\n",
       "      <td>19.695</td>\n",
       "      <td>50</td>\n",
       "      <td>26.0027</td>\n",
       "      <td>7</td>\n",
       "      <td>329</td>\n",
       "      <td>336</td>\n",
       "      <td>2012</td>\n",
       "      <td>12</td>\n",
       "      <td>19</td>\n",
       "      <td>19</td>\n",
       "    </tr>\n",
       "    <tr>\n",
       "      <th>10882</th>\n",
       "      <td>2012-12-19 20:00:00</td>\n",
       "      <td>4</td>\n",
       "      <td>0</td>\n",
       "      <td>1</td>\n",
       "      <td>1</td>\n",
       "      <td>14.76</td>\n",
       "      <td>17.425</td>\n",
       "      <td>57</td>\n",
       "      <td>15.0013</td>\n",
       "      <td>10</td>\n",
       "      <td>231</td>\n",
       "      <td>241</td>\n",
       "      <td>2012</td>\n",
       "      <td>12</td>\n",
       "      <td>19</td>\n",
       "      <td>20</td>\n",
       "    </tr>\n",
       "    <tr>\n",
       "      <th>10883</th>\n",
       "      <td>2012-12-19 21:00:00</td>\n",
       "      <td>4</td>\n",
       "      <td>0</td>\n",
       "      <td>1</td>\n",
       "      <td>1</td>\n",
       "      <td>13.94</td>\n",
       "      <td>15.910</td>\n",
       "      <td>61</td>\n",
       "      <td>15.0013</td>\n",
       "      <td>4</td>\n",
       "      <td>164</td>\n",
       "      <td>168</td>\n",
       "      <td>2012</td>\n",
       "      <td>12</td>\n",
       "      <td>19</td>\n",
       "      <td>21</td>\n",
       "    </tr>\n",
       "    <tr>\n",
       "      <th>10884</th>\n",
       "      <td>2012-12-19 22:00:00</td>\n",
       "      <td>4</td>\n",
       "      <td>0</td>\n",
       "      <td>1</td>\n",
       "      <td>1</td>\n",
       "      <td>13.94</td>\n",
       "      <td>17.425</td>\n",
       "      <td>61</td>\n",
       "      <td>6.0032</td>\n",
       "      <td>12</td>\n",
       "      <td>117</td>\n",
       "      <td>129</td>\n",
       "      <td>2012</td>\n",
       "      <td>12</td>\n",
       "      <td>19</td>\n",
       "      <td>22</td>\n",
       "    </tr>\n",
       "    <tr>\n",
       "      <th>10885</th>\n",
       "      <td>2012-12-19 23:00:00</td>\n",
       "      <td>4</td>\n",
       "      <td>0</td>\n",
       "      <td>1</td>\n",
       "      <td>1</td>\n",
       "      <td>13.12</td>\n",
       "      <td>16.665</td>\n",
       "      <td>66</td>\n",
       "      <td>8.9981</td>\n",
       "      <td>4</td>\n",
       "      <td>84</td>\n",
       "      <td>88</td>\n",
       "      <td>2012</td>\n",
       "      <td>12</td>\n",
       "      <td>19</td>\n",
       "      <td>23</td>\n",
       "    </tr>\n",
       "  </tbody>\n",
       "</table>\n",
       "<p>10886 rows × 16 columns</p>\n",
       "</div>"
      ],
      "text/plain": [
       "                 datetime  season  holiday  workingday  weather   temp  \\\n",
       "0     2011-01-01 00:00:00       1        0           0        1   9.84   \n",
       "1     2011-01-01 01:00:00       1        0           0        1   9.02   \n",
       "2     2011-01-01 02:00:00       1        0           0        1   9.02   \n",
       "3     2011-01-01 03:00:00       1        0           0        1   9.84   \n",
       "4     2011-01-01 04:00:00       1        0           0        1   9.84   \n",
       "...                   ...     ...      ...         ...      ...    ...   \n",
       "10881 2012-12-19 19:00:00       4        0           1        1  15.58   \n",
       "10882 2012-12-19 20:00:00       4        0           1        1  14.76   \n",
       "10883 2012-12-19 21:00:00       4        0           1        1  13.94   \n",
       "10884 2012-12-19 22:00:00       4        0           1        1  13.94   \n",
       "10885 2012-12-19 23:00:00       4        0           1        1  13.12   \n",
       "\n",
       "        atemp  humidity  windspeed  casual  registered  count  year  month  \\\n",
       "0      14.395        81     0.0000       3          13     16  2011      1   \n",
       "1      13.635        80     0.0000       8          32     40  2011      1   \n",
       "2      13.635        80     0.0000       5          27     32  2011      1   \n",
       "3      14.395        75     0.0000       3          10     13  2011      1   \n",
       "4      14.395        75     0.0000       0           1      1  2011      1   \n",
       "...       ...       ...        ...     ...         ...    ...   ...    ...   \n",
       "10881  19.695        50    26.0027       7         329    336  2012     12   \n",
       "10882  17.425        57    15.0013      10         231    241  2012     12   \n",
       "10883  15.910        61    15.0013       4         164    168  2012     12   \n",
       "10884  17.425        61     6.0032      12         117    129  2012     12   \n",
       "10885  16.665        66     8.9981       4          84     88  2012     12   \n",
       "\n",
       "       day  hour  \n",
       "0        1     0  \n",
       "1        1     1  \n",
       "2        1     2  \n",
       "3        1     3  \n",
       "4        1     4  \n",
       "...    ...   ...  \n",
       "10881   19    19  \n",
       "10882   19    20  \n",
       "10883   19    21  \n",
       "10884   19    22  \n",
       "10885   19    23  \n",
       "\n",
       "[10886 rows x 16 columns]"
      ]
     },
     "execution_count": 9,
     "metadata": {},
     "output_type": "execute_result"
    }
   ],
   "source": [
    "train"
   ]
  },
  {
   "cell_type": "markdown",
   "id": "7e357463-377f-4779-bd5c-47a5ed6734fc",
   "metadata": {},
   "source": [
    "# Modeling"
   ]
  },
  {
   "cell_type": "code",
   "execution_count": 48,
   "id": "454cb5bc-f0f6-4337-bd93-9ae97d9a90ef",
   "metadata": {},
   "outputs": [],
   "source": [
    "from sklearn.model_selection import train_test_split, GridSearchCV\n",
    "from sklearn.preprocessing import MinMaxScaler, StandardScaler\n",
    "from sklearn.linear_model import LinearRegression, Ridge, Lasso\n",
    "from sklearn.ensemble import RandomForestRegressor,GradientBoostingRegressor\n",
    "from xgboost import XGBRegressor\n",
    "from lightgbm import LGBMRegressor"
   ]
  },
  {
   "cell_type": "markdown",
   "id": "5387e4a6-85f9-4a84-ac71-2a538eca4972",
   "metadata": {},
   "source": [
    "### Metrics"
   ]
  },
  {
   "cell_type": "code",
   "execution_count": 21,
   "id": "8d9b9dab-ee18-45c1-a76e-e52993cfc2f0",
   "metadata": {},
   "outputs": [],
   "source": [
    "from sklearn.metrics import mean_squared_error, mean_absolute_error\n",
    "\n",
    "def rmsle(y,pred):\n",
    "    log_y, log_pred = np.log1p(y), np.log1p(pred)\n",
    "    rmsle = np.sqrt(np.mean((log_y - log_pred) ** 2))\n",
    "    return rmsle\n",
    "\n",
    "def rmse(y, pred):\n",
    "    return np.sqrt(mean_squared_error(y,pred))\n",
    "\n",
    "def evaluate_regr(y,pred):\n",
    "    rmsle_val = rmsle(y,pred)\n",
    "    rmse_val = rmse(y,pred)\n",
    "    mae_val = mean_absolute_error(y,pred)\n",
    "    print(f'RMSLE : {rmsle_val:.3f}\\nRMSE : {rmse_val:.3f}\\nMAE : {mae_val:.3f}')"
   ]
  },
  {
   "cell_type": "markdown",
   "id": "bfa37985-5ed0-41f1-bac7-5a7cd42af314",
   "metadata": {},
   "source": [
    "## First Modeling\n",
    "- Only Use Count"
   ]
  },
  {
   "cell_type": "code",
   "execution_count": 22,
   "id": "66109d92-f35e-4e6e-afdf-db853ef9b815",
   "metadata": {},
   "outputs": [
    {
     "name": "stdout",
     "output_type": "stream",
     "text": [
      "RMSLE : 1.165\n",
      "RMSE : 140.900\n",
      "MAE : 105.924\n"
     ]
    }
   ],
   "source": [
    "fmodel = train.copy()\n",
    "\n",
    "fmodel.drop(columns=['datetime','casual','registered'],inplace=True)\n",
    "\n",
    "y_target = fmodel['count']\n",
    "X_features = fmodel.drop(columns=['count'])\n",
    "\n",
    "X_train, X_test, y_train, y_test = train_test_split(X_features, y_target, test_size=0.3, random_state=0)\n",
    "\n",
    "lr_model = LinearRegression().fit(X_train,y_train)\n",
    "lr_model_pred = lr_model.predict(X_test)\n",
    "\n",
    "evaluate_regr(y_test,lr_model_pred)"
   ]
  },
  {
   "cell_type": "code",
   "execution_count": 24,
   "id": "1ca73e5d-29b2-437a-9ff9-19abc631f455",
   "metadata": {},
   "outputs": [
    {
     "name": "stdout",
     "output_type": "stream",
     "text": [
      "      real_count  predicted_count   diff\n",
      "1618         890            322.0  568.0\n",
      "3151         798            241.0  557.0\n",
      "966          884            327.0  557.0\n",
      "412          745            194.0  551.0\n",
      "2817         856            310.0  546.0\n"
     ]
    }
   ],
   "source": [
    "def get_top_error_data(y_test, pred, n_tops=5):\n",
    "    #DataFrame의 컬럼으로 실제 대여횟수(count)와 예측 값을 서로 비교할 수 있도록 생성\n",
    "    result_df = pd.DataFrame(y_test.values, columns=['real_count'])\n",
    "    result_df['predicted_count'] = np.round(pred)\n",
    "    result_df['diff'] = np.abs(result_df['real_count'] - result_df['predicted_count'])\n",
    "    print(result_df.sort_values('diff',ascending=False)[:n_tops])\n",
    "\n",
    "get_top_error_data(y_test, lr_model_pred, n_tops=5)"
   ]
  },
  {
   "cell_type": "markdown",
   "id": "3d599c1f-abdc-4c4a-a094-a59019203a55",
   "metadata": {},
   "source": [
    "## 애초에 Y값이 정규분포를 이루고 있지않음"
   ]
  },
  {
   "cell_type": "code",
   "execution_count": 25,
   "id": "88e613e1-b77e-4159-90fe-7a2cb47b807f",
   "metadata": {},
   "outputs": [
    {
     "data": {
      "text/plain": [
       "<Axes: >"
      ]
     },
     "execution_count": 25,
     "metadata": {},
     "output_type": "execute_result"
    },
    {
     "data": {
      "image/png": "[encoded data removed]",
      "text/plain": [
       "<Figure size 640x480 with 1 Axes>"
      ]
     },
     "metadata": {},
     "output_type": "display_data"
    }
   ],
   "source": [
    "y_target.hist()"
   ]
  },
  {
   "cell_type": "markdown",
   "id": "f791e228-bf3b-48e5-b13e-96fc3a5edc40",
   "metadata": {},
   "source": [
    "### 로그 변환\n",
    "- 로그 변환 복구 -> np.exmp1() 지수 함수 적용"
   ]
  },
  {
   "cell_type": "code",
   "execution_count": 27,
   "id": "385617c8-e558-4bde-a1a5-78bb516271ec",
   "metadata": {},
   "outputs": [
    {
     "data": {
      "text/plain": [
       "<Axes: >"
      ]
     },
     "execution_count": 27,
     "metadata": {},
     "output_type": "execute_result"
    },
    {
     "data": {
      "image/png": "[encoded data removed]",
      "text/plain": [
       "<Figure size 640x480 with 1 Axes>"
      ]
     },
     "metadata": {},
     "output_type": "display_data"
    }
   ],
   "source": [
    "y_log_transform = np.log1p(y_target)\n",
    "y_log_transform.hist()"
   ]
  },
  {
   "cell_type": "code",
   "execution_count": 31,
   "id": "975eafd5-342f-4d06-891b-2359adfb8af7",
   "metadata": {},
   "outputs": [
    {
     "name": "stdout",
     "output_type": "stream",
     "text": [
      "RMSLE : 1.017\n",
      "RMSE : 162.594\n",
      "MAE : 109.286\n"
     ]
    }
   ],
   "source": [
    "# 타깃 컬럼 count값을 log1p로 로그 변환\n",
    "y_target_log = np.log1p(y_target)\n",
    "# 로그 변환된 y_tay_target_log를 반영해 학습/테스트 데이터 세트 분할\n",
    "X_train, X_test, y_train, y_test = train_test_split(X_features, y_target_log, test_size=0.3, random_state=0)\n",
    "\n",
    "lr_model = LinearRegression().fit(X_train,y_train)\n",
    "lr_model_pred = lr_model.predict(X_test)\n",
    "\n",
    "#테스트 데이터 세트의 Target 값은 로그 변환됐으므로 다시 expm1을 이용해 원래 스케일로 변환\n",
    "y_test_exp = np.expm1(y_test)\n",
    "# 예측값 역시 로그 변환된 타깃 기반으로 학습돼 예측됐으므로 다시 expm1로 스케일 변환\n",
    "pred_exp = np.expm1(lr_model_pred)\n",
    "\n",
    "evaluate_regr(y_test_exp, pred_exp)"
   ]
  },
  {
   "cell_type": "code",
   "execution_count": 33,
   "id": "8e454e19-6f02-4e8d-8649-1b05f74a0330",
   "metadata": {},
   "outputs": [
    {
     "data": {
      "text/plain": [
       "year          0.418513\n",
       "hour          0.098348\n",
       "month         0.076839\n",
       "atemp         0.030857\n",
       "temp          0.011712\n",
       "windspeed     0.003961\n",
       "day           0.003353\n",
       "humidity     -0.014512\n",
       "weather      -0.014733\n",
       "season       -0.044525\n",
       "holiday      -0.046010\n",
       "workingday   -0.066383\n",
       "dtype: float64"
      ]
     },
     "execution_count": 33,
     "metadata": {},
     "output_type": "execute_result"
    }
   ],
   "source": [
    "coef"
   ]
  },
  {
   "cell_type": "code",
   "execution_count": 38,
   "id": "9e738d9d-8816-4cea-8a91-3ab850243816",
   "metadata": {},
   "outputs": [
    {
     "data": {
      "text/plain": [
       "<Axes: ylabel='None'>"
      ]
     },
     "execution_count": 38,
     "metadata": {},
     "output_type": "execute_result"
    },
    {
     "data": {
      "image/png": "[encoded data removed]",
      "text/plain": [
       "<Figure size 640x480 with 1 Axes>"
      ]
     },
     "metadata": {},
     "output_type": "display_data"
    }
   ],
   "source": [
    "coef = pd.Series(lr_model.coef_, index= X_features.columns).sort_values(ascending=False)\n",
    "sns.barplot(x=coef.values, y=coef.index)"
   ]
  },
  {
   "cell_type": "markdown",
   "id": "e5fdece9-20f5-4b35-943d-532527f9f598",
   "metadata": {},
   "source": [
    "### 특정 feature가 영향을 크게 주고 있음"
   ]
  },
  {
   "cell_type": "code",
   "execution_count": 39,
   "id": "9dd6f145-8891-47ad-8ab0-ab7f2522a199",
   "metadata": {},
   "outputs": [],
   "source": [
    "X_features_ohe = pd.get_dummies(X_features,columns=['year','month','day','hour','holiday','workingday','season','weather'])"
   ]
  },
  {
   "cell_type": "markdown",
   "id": "2f82f557-36a8-4ae9-9e19-fa7ccb0f9351",
   "metadata": {},
   "source": [
    "## Featrue 변형 & Y 로그변환"
   ]
  },
  {
   "cell_type": "code",
   "execution_count": 46,
   "id": "96157e04-cc31-4075-ba0d-60a0f33045d2",
   "metadata": {},
   "outputs": [
    {
     "name": "stdout",
     "output_type": "stream",
     "text": [
      "\n",
      "### LinearRegression ###\n",
      "RMSLE : 0.585\n",
      "RMSE : 95.845\n",
      "MAE : 62.352\n",
      "\n",
      "### Ridge ###\n",
      "RMSLE : 0.587\n",
      "RMSE : 96.827\n",
      "MAE : 62.889\n",
      "\n",
      "### Lasso ###\n",
      "RMSLE : 0.639\n",
      "RMSE : 112.044\n",
      "MAE : 71.914\n"
     ]
    }
   ],
   "source": [
    "X_train, X_test, y_train, y_test = train_test_split(X_features_ohe, y_target_log, test_size=0.3, random_state=42)\n",
    "\n",
    "def get_model_predict(model, X_train, X_test, y_train, y_test, is_expm1=False):\n",
    "    model.fit(X_train,y_train)\n",
    "    pred = model.predict(X_test)\n",
    "    if is_expm1:\n",
    "        y_test = np.expm1(y_test)\n",
    "        pred = np.expm1(pred)\n",
    "    print('\\n''###',model.__class__.__name__,'###')\n",
    "    evaluate_regr(y_test, pred)\n",
    "\n",
    "lr_reg = LinearRegression()\n",
    "ridge_reg = Ridge(alpha=10)\n",
    "lasso_reg = Lasso(alpha=0.01)\n",
    "\n",
    "\n",
    "for model in [lr_reg,ridge_reg,lasso_reg]:\n",
    "    get_model_predict(model,X_train,X_test,y_train, y_test, is_expm1=True)"
   ]
  },
  {
   "cell_type": "code",
   "execution_count": 47,
   "id": "43bae389-08d4-4a97-a301-861c4cdd3694",
   "metadata": {},
   "outputs": [
    {
     "data": {
      "text/plain": [
       "<Axes: ylabel='None'>"
      ]
     },
     "execution_count": 47,
     "metadata": {},
     "output_type": "execute_result"
    },
    {
     "data": {
      "image/png": "[encoded data removed]",
      "text/plain": [
       "<Figure size 640x480 with 1 Axes>"
      ]
     },
     "metadata": {},
     "output_type": "display_data"
    }
   ],
   "source": [
    "coef = pd.Series(lr_reg.coef_, index=X_features_ohe.columns).sort_values(ascending=False)[:20]\n",
    "sns.barplot(x=coef.values, y=coef.index)"
   ]
  },
  {
   "cell_type": "code",
   "execution_count": 50,
   "id": "c0ecf225-6d5d-4058-a18e-428b27c14f33",
   "metadata": {},
   "outputs": [
    {
     "name": "stdout",
     "output_type": "stream",
     "text": [
      "\n",
      "### RandomForestRegressor ###\n",
      "RMSLE : 0.349\n",
      "RMSE : 47.880\n",
      "MAE : 29.926\n",
      "\n",
      "### GradientBoostingRegressor ###\n",
      "RMSLE : 0.331\n",
      "RMSE : 51.718\n",
      "MAE : 32.214\n",
      "\n",
      "### XGBRegressor ###\n",
      "RMSLE : 0.344\n",
      "RMSE : 52.341\n",
      "MAE : 32.070\n",
      "[LightGBM] [Info] Auto-choosing row-wise multi-threading, the overhead of testing was 0.000095 seconds.\n",
      "You can set `force_row_wise=true` to remove the overhead.\n",
      "And if memory is not enough, you can set `force_col_wise=true`.\n",
      "[LightGBM] [Info] Total Bins 347\n",
      "[LightGBM] [Info] Number of data points in the train set: 7620, number of used features: 72\n",
      "[LightGBM] [Info] Start training from score 4.585795\n",
      "\n",
      "### LGBMRegressor ###\n",
      "RMSLE : 0.364\n",
      "RMSE : 59.295\n",
      "MAE : 37.054\n"
     ]
    }
   ],
   "source": [
    "rf_reg = RandomForestRegressor(n_estimators=500)\n",
    "gbm_reg = GradientBoostingRegressor(n_estimators=500)\n",
    "xgb_reg = XGBRegressor(n_estimators=500)\n",
    "lgbm_reg = LGBMRegressor(n_estimators=500,learning_rate=0.01)\n",
    "\n",
    "for model in [rf_reg,gbm_reg,xgb_reg,lgbm_reg]:\n",
    "    get_model_predict(model,X_train.values, X_test.values, y_train.values, y_test.values, is_expm1=True)"
   ]
  },
  {
   "cell_type": "code",
   "execution_count": null,
   "id": "0e7f5d1c-98c8-444d-b920-c28fef48577e",
   "metadata": {},
   "outputs": [],
   "source": []
  },
  {
   "cell_type": "code",
   "execution_count": null,
   "id": "08b539d8-817d-4388-af6c-ec2046884753",
   "metadata": {},
   "outputs": [],
   "source": []
  }
 ],
 "metadata": {
  "kernelspec": {
   "display_name": "Python 3 (ipykernel)",
   "language": "python",
   "name": "python3"
  },
  "language_info": {
   "codemirror_mode": {
    "name": "ipython",
    "version": 3
   },
   "file_extension": ".py",
   "mimetype": "text/x-python",
   "name": "python",
   "nbconvert_exporter": "python",
   "pygments_lexer": "ipython3",
   "version": "3.10.0"
  }
 },
 "nbformat": 4,
 "nbformat_minor": 5
}
