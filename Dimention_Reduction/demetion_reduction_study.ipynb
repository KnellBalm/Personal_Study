{
 "cells": [
  {
   "cell_type": "markdown",
   "id": "0d1fca75-3c89-412c-b36c-7983e2adbe94",
   "metadata": {},
   "source": [
    "# Dimension Reduction"
   ]
  },
  {
   "cell_type": "code",
   "execution_count": 2,
   "id": "9d53a0e6-57a4-4f63-9575-bbf3754ba659",
   "metadata": {},
   "outputs": [],
   "source": [
    "import pandas as pd\n",
    "import numpy as np\n",
    "import matplotlib.pyplot as plt"
   ]
  },
  {
   "cell_type": "markdown",
   "id": "2d4bb232-0b17-462a-8ed8-d14f24b77313",
   "metadata": {},
   "source": [
    "## Introduction\n",
    "- 차원 축소 개요\n",
    "    - 차원 축소는 매우 많은 피처로 구성된 다차원 데이터 세트의 차원을 축소해 새로운 차원의 데이터 세트를 생성하는 것\n",
    "    - 차원이 증가할 수록 데이터 포인트 간의 거리가 기하급수적으로 멀어지게 되고 희소(sparse)한 구조를 가지게 됨\n",
    "    - 피처가 많을 경우 개별 피처간 상관관계가 높을 가능성이 큼\n",
    "        - 다중공선성 문제로 모델 예측 성능이 저하됨\n",
    "    - 차원 축소는 피처 선택(feature_selection)과 피처 추출(feature_extraction)로 나눌 수 있음\n",
    "        - feature_selection : 특정 피처에 종속성이 강한 불필요한 피처는 아예 제거하고 데이터의 특징을 잘 나타내는 주요 피처만 선택\n",
    "        - feature_extraction : 기존 피처를 저차원의 중요 피처로 압축해서 추출, 중요 특성은 기존의 피처가 압축된 것이므로 기존의 피처와는 완전히 다른 값이 됨\n",
    "            - 단순 압축이 아닌 피처를 함축적으로 더 잘 설명할 수 있는 또 다른 공간으로 매핑해 추출하는 것\n",
    "    - 차원 축소는 단순한 데이터 압축이 아닌 데이터를 잘 설명할 수 있는 잠재적인 요소를 추출하는데 있음\n",
    "    - 차원축소는 이미지 데이터나 텍스트 데이터에서 원본 데이터보다 더 높은 설명력을 가지게 할 수 있음\n",
    "    - 차원 축소의 대표적 알고리즘 : PCA, LDA, SVD, NMF\n"
   ]
  },
  {
   "cell_type": "markdown",
   "id": "3e7f3dc5-6df4-4547-830d-e57b0f4bbb92",
   "metadata": {},
   "source": [
    "## PCA(Pricipal Component Analysis; 주성분 분석)\n",
    "- PCA는 여러 변수 간 존재하는 상관관계를 이용해 이를 대표하는 주성분을 추출해 차원을 축소하는 기법\n",
    "- 기존 데이터의 정보 유실이 최소화되는 것은 당연함\n",
    "- PCA는 **가장 높은 분산을 가지는 데이터의 축** 을 찾아 이 축으로 차원을 축소하는데, 이것이 PCA의 주성분이 됨\n",
    "\n",
    "<img src=\"https://blog.kakaocdn.net/dn/bUvtbN/btrowkIz2oH/pFi7dcwZI0DolbyEpKTHPk/img.png\" width=1000 height=500 alt=20></img>\n",
    "\n",
    "- 가장 큰 데이터 변동성(Variance)을 기반으로 첫번째 벡터 축을 생성하고, 두번째 벡터축은 이 벡터축에 직각이 되는 벡터를 축으로 함\n",
    "    - 세번째 축은 다시 두 번째 축과 직각이 되는 벡터를 설정하는 방식으로 축을 생성함\n",
    "    - 이렇게 생성된 벡터 축에 원본 데이터를 투영하면 벡터 축의 개수만큼의 차원으로 원본 데이터가 차원 축소 됨\n",
    "- 주성분 분석은 원본 데이터 피처개수에 비해 매우 작은 주성분으로 원본 데이터의 총 변동성을 대부분 설명할 수 있는 분석법\n",
    "    - 선형대수 관점에서 해석하면\n",
    "        - 입력 데이터의 공분산 행렬(Covariance Matrix)을 고유값 분해하고, 이렇게 구한 고유벡터에 입력데이터를 선형 변환하는 것\n",
    "        - 고유벡터가 PCA의 주성분 벡터로서 입력 데이터의 분산이 큰 방향을 나타냄\n",
    "        - 고윳값(eigenvalue)은 고유벡터의 크기를 나타내면서 동시에 입력 데이터의 분산을 나타냄\n",
    "- 보통 분산은 한 개의 특정한 변수의 데이터 변동을 의미하나, 공분산은 두 변수간의 변동을 의미함\n",
    "- 사람 키를 X, 몸무게를 Y라고 하면 공분산 $Cov(X,Y) > 0 =$ X(키)가 증가할 때 Y(몸무게)도 증가한다는 의미\n",
    "\n",
    "- 공분산행렬 : 여러 변수와 관련된 공분산을 포함하는 정방형 행렬\n",
    "||X|Y|Z|\n",
    "|---|---|---|---|\n",
    "|X|3.0|-0.71|-0.24|\n",
    "|Y|-0.71|4.5|0.28|\n",
    "|Z|-0.24|0.28|0.91|\n",
    "- 공분산 행렬에서 대각선 원소는 각 변수(X,Y,Z)의 분산을 의미하며, 대각선 이외의 원소는 가능한 모든 변수 쌍 간의 공분산을 의미함\n",
    "- 공분산 행렬은 정방행렬이며 대칭행렬임\n",
    "    - 정방행렬 중 대각 원소를 중심으로 원소 값이 대칭되는 행렬, 즉 $A^T = A$인 행렬을 대칭행렬으로 부름\n",
    "    - 공분산 행렬을 개별 분산값을 대각원소로 하는 대칭행렬임\n",
    "    - 대칭행렬은 항상 고유벡터를 직교행렬로, 고유값을 정방행렬로 대각화할 수 있음\n",
    "    - 입력데이터의 공분산 행렬을 $C$라고 하면, 공분산 행렬의 특성으로 인해 다음과 같이 분해할 수 있음\n",
    "$$C=P\\sum P^T$$\n",
    "- 이 때, $P$는 nxn의 직교행렬이며, $\\sum$은 nxn의 정방행렬, $P^T$는 행렬P의 전치행렬임\n",
    "- 고유벡터는 행렬 A를 곱하더라도 방향이 변하진 않고 그 크기만 변하는 벡터를 지칭함\n",
    "    - 즉, Ax = ax(A는 행렬, x는 고유벡터, a는 스칼라값)\n",
    "- 고유벡터는 여러개가 존재하며, 정방 행렬은 최대 그 차원수만큼의 고유벡터를 가질 수 있음\n",
    "    - 예를 들어 2x2 행렬은 두 개의 고유 벡터를, 3x3 행렬은 3개의 고유벡터를 가질 수 있음\n",
    "    - 고유벡터는 행렬이 작용하는 힘의 방향과 관계가 있어서 행렬을 분해하는데 사용됨\n",
    "\n",
    "**입력 데이터의 공분산 행렬이 고유벡터와 고유값으로 분해될 수 있으며, 이렇게 고유벡터를 이용해 입력 데이터를 선형 변환하는 방식이 PCA라는 것**"
   ]
  },
  {
   "cell_type": "markdown",
   "id": "4fae0f7c-e25a-45ca-8b1e-1dfbf4bfe518",
   "metadata": {},
   "source": [
    "PCA는 많은 속성으로 구분된 원본 데이터를 그 핵심을 구성하는 데이터로 압축한 것\n",
    "- 붓꽃(iris) 데이터를 활용해서 4개의 속성으로 되어있는 데이터를 2개의 PCA 차원으로 압축해 원본데이터와 압축된 데이터 세트를 비교"
   ]
  },
  {
   "cell_type": "code",
   "execution_count": 38,
   "id": "9a1bdb78-3d44-4022-a5a5-65c80d1ca0ae",
   "metadata": {},
   "outputs": [
    {
     "data": {
      "text/html": [
       "<div>\n",
       "<style scoped>\n",
       "    .dataframe tbody tr th:only-of-type {\n",
       "        vertical-align: middle;\n",
       "    }\n",
       "\n",
       "    .dataframe tbody tr th {\n",
       "        vertical-align: top;\n",
       "    }\n",
       "\n",
       "    .dataframe thead th {\n",
       "        text-align: right;\n",
       "    }\n",
       "</style>\n",
       "<table border=\"1\" class=\"dataframe\">\n",
       "  <thead>\n",
       "    <tr style=\"text-align: right;\">\n",
       "      <th></th>\n",
       "      <th>sepal_length</th>\n",
       "      <th>sepal_width</th>\n",
       "      <th>petal_length</th>\n",
       "      <th>petal_width</th>\n",
       "      <th>target</th>\n",
       "    </tr>\n",
       "  </thead>\n",
       "  <tbody>\n",
       "    <tr>\n",
       "      <th>0</th>\n",
       "      <td>5.1</td>\n",
       "      <td>3.5</td>\n",
       "      <td>1.4</td>\n",
       "      <td>0.2</td>\n",
       "      <td>0</td>\n",
       "    </tr>\n",
       "    <tr>\n",
       "      <th>1</th>\n",
       "      <td>4.9</td>\n",
       "      <td>3.0</td>\n",
       "      <td>1.4</td>\n",
       "      <td>0.2</td>\n",
       "      <td>0</td>\n",
       "    </tr>\n",
       "    <tr>\n",
       "      <th>2</th>\n",
       "      <td>4.7</td>\n",
       "      <td>3.2</td>\n",
       "      <td>1.3</td>\n",
       "      <td>0.2</td>\n",
       "      <td>0</td>\n",
       "    </tr>\n",
       "  </tbody>\n",
       "</table>\n",
       "</div>"
      ],
      "text/plain": [
       "   sepal_length  sepal_width  petal_length  petal_width  target\n",
       "0           5.1          3.5           1.4          0.2       0\n",
       "1           4.9          3.0           1.4          0.2       0\n",
       "2           4.7          3.2           1.3          0.2       0"
      ]
     },
     "execution_count": 38,
     "metadata": {},
     "output_type": "execute_result"
    }
   ],
   "source": [
    "from sklearn.datasets import load_iris\n",
    "import pandas as pd\n",
    "import matplotlib.pyplot as plt\n",
    "%matplotlib inline\n",
    "\n",
    "iris = load_iris()\n",
    "columns = [x.replace(' (cm)','').strip().replace(' ','_') for x in iris['feature_names']]\n",
    "irisdf = pd.DataFrame(iris.data,columns=columns)\n",
    "irisdf['target'] = iris.target\n",
    "irisdf.head(3)"
   ]
  },
  {
   "cell_type": "code",
   "execution_count": 40,
   "id": "5370aad7-60b9-4a79-97e8-e77acba4e706",
   "metadata": {},
   "outputs": [
    {
     "data": {
      "image/png": "[encoded data removed]",
      "text/plain": [
       "<Figure size 640x480 with 1 Axes>"
      ]
     },
     "metadata": {},
     "output_type": "display_data"
    }
   ],
   "source": [
    "# setosa는 세모, veriscolor는 네모, virginica는 동그라미로 표현\n",
    "markers = ['^','s','o']\n",
    "\n",
    "#setosa의 target 값은  0, veriscolor는 1, virginica는 2, 각 target별로 다른 모양으로 산점도로 표시\n",
    "for i, marker in enumerate(markers):\n",
    "    x_axis_data = irisdf[irisdf['target'] == i]['sepal_length']\n",
    "    y_axis_data = irisdf[irisdf['target'] == i]['sepal_width']\n",
    "    plt.scatter(x_axis_data, y_axis_data,marker=marker, label=iris.target_names[i])\n",
    "\n",
    "plt.legend()\n",
    "plt.xlabel('sepal length')\n",
    "plt.ylabel('sepal length')\n",
    "plt.show()"
   ]
  },
  {
   "cell_type": "markdown",
   "id": "f2a8938f-4d9b-4693-b174-5b7b5193f542",
   "metadata": {},
   "source": [
    "- setosa 품종은 확연하게 구분되지만 나머지 2개는 구분하기 어려운 부분이 있음\n",
    "- PCA로 4개 속성을 2개로 압축한 뒤 앞의 예제와 비슷하게 2개의 PCA 속성으로 붓꽃 데이터의 품종 분포를 2차원 데이터로 시각화\n",
    "- 붓꽃 데이터에 바로 PCA를 적용하기 전 개별 속성을 함께 스케일링 해야함\n",
    "- **PCA는 여러 속성의 값을 연산해야 하므로 속성의 스케일에 영향을 받음** \n",
    "- PCA로 압축하기 전 각 속성값을 스케일로 변환하는 것이 필요함"
   ]
  },
  {
   "cell_type": "code",
   "execution_count": 42,
   "id": "e466d0aa-213c-45b3-9a83-c5411689506a",
   "metadata": {},
   "outputs": [
    {
     "name": "stdout",
     "output_type": "stream",
     "text": [
      "raw df shape : (150, 5)\n",
      "pca df shape : (150, 2)\n"
     ]
    },
    {
     "data": {
      "text/html": [
       "<div>\n",
       "<style scoped>\n",
       "    .dataframe tbody tr th:only-of-type {\n",
       "        vertical-align: middle;\n",
       "    }\n",
       "\n",
       "    .dataframe tbody tr th {\n",
       "        vertical-align: top;\n",
       "    }\n",
       "\n",
       "    .dataframe thead th {\n",
       "        text-align: right;\n",
       "    }\n",
       "</style>\n",
       "<table border=\"1\" class=\"dataframe\">\n",
       "  <thead>\n",
       "    <tr style=\"text-align: right;\">\n",
       "      <th></th>\n",
       "      <th>pca_component_1</th>\n",
       "      <th>pca_component_2</th>\n",
       "      <th>target</th>\n",
       "    </tr>\n",
       "  </thead>\n",
       "  <tbody>\n",
       "    <tr>\n",
       "      <th>0</th>\n",
       "      <td>-2.264703</td>\n",
       "      <td>0.480027</td>\n",
       "      <td>0</td>\n",
       "    </tr>\n",
       "    <tr>\n",
       "      <th>1</th>\n",
       "      <td>-2.080961</td>\n",
       "      <td>-0.674134</td>\n",
       "      <td>0</td>\n",
       "    </tr>\n",
       "    <tr>\n",
       "      <th>2</th>\n",
       "      <td>-2.364229</td>\n",
       "      <td>-0.341908</td>\n",
       "      <td>0</td>\n",
       "    </tr>\n",
       "  </tbody>\n",
       "</table>\n",
       "</div>"
      ],
      "text/plain": [
       "   pca_component_1  pca_component_2  target\n",
       "0        -2.264703         0.480027       0\n",
       "1        -2.080961        -0.674134       0\n",
       "2        -2.364229        -0.341908       0"
      ]
     },
     "execution_count": 42,
     "metadata": {},
     "output_type": "execute_result"
    }
   ],
   "source": [
    "from sklearn.preprocessing import StandardScaler\n",
    "\n",
    "print(f'raw df shape : {irisdf.shape}')\n",
    "#Target값 제외한 모든 속성 값을 StandardScaler를 이용해 표준 정규 분포를 가지는 값들로 변환\n",
    "iris_scaled = StandardScaler().fit_transform(irisdf.iloc[:,:-1]) \n",
    "\n",
    "from sklearn.decomposition import PCA\n",
    "\n",
    "pca = PCA(n_components=2) # n_components = 반환 차원 수\n",
    "# fit()과 transform()을 호출해 PCA변환 데이터 반환\n",
    "pca.fit(iris_scaled)\n",
    "iris_pca = pca.transform(iris_scaled)\n",
    "print(f'pca df shape : {iris_pca.shape}')\n",
    "\n",
    "#PCA 변환된 데이터의 컬럼명을 각각 pca_component_1, pca_component_2로 명명\n",
    "pca_columns = ['pca_component_1', 'pca_component_2']\n",
    "irisdf_pca = pd.DataFrame(iris_pca, columns=pca_columns)\n",
    "irisdf_pca['target'] = iris.target\n",
    "irisdf_pca.head(3)"
   ]
  },
  {
   "cell_type": "code",
   "execution_count": 45,
   "id": "a06d35aa-edae-402a-adac-27b29b796056",
   "metadata": {},
   "outputs": [
    {
     "data": {
      "image/png": "[encoded data removed]",
      "text/plain": [
       "<Figure size 640x480 with 1 Axes>"
      ]
     },
     "metadata": {},
     "output_type": "display_data"
    }
   ],
   "source": [
    "# setosa는 세모, veriscolor는 네모, virginica는 동그라미로 표현\n",
    "markers = ['^','s','o']\n",
    "\n",
    "# pca_component_1을 x축, pc_component_2를 y축으로 하는 scatter plot 수행\n",
    "for i, marker in enumerate(markers):\n",
    "    x_axis_data = irisdf_pca[irisdf_pca['target'] == i]['pca_component_1']\n",
    "    y_axis_data = irisdf_pca[irisdf_pca['target'] == i]['pca_component_2']\n",
    "    plt.scatter(x_axis_data, y_axis_data,marker=marker, label=iris.target_names[i])\n",
    "\n",
    "plt.legend()\n",
    "plt.xlabel('sepal length')\n",
    "plt.ylabel('sepal length')\n",
    "plt.show()"
   ]
  },
  {
   "cell_type": "code",
   "execution_count": null,
   "id": "8ab2c392-d246-4bf2-b636-3d581e2390e5",
   "metadata": {},
   "outputs": [],
   "source": []
  },
  {
   "cell_type": "code",
   "execution_count": null,
   "id": "180069c9-d4c3-4e04-b269-5166dc13d8c6",
   "metadata": {},
   "outputs": [],
   "source": []
  },
  {
   "cell_type": "code",
   "execution_count": null,
   "id": "5752ca8d-0f60-4661-b688-c5e670bd250c",
   "metadata": {},
   "outputs": [],
   "source": []
  },
  {
   "cell_type": "code",
   "execution_count": null,
   "id": "cbd32f26-9924-4098-9d70-46d56363c15e",
   "metadata": {},
   "outputs": [],
   "source": []
  },
  {
   "cell_type": "code",
   "execution_count": null,
   "id": "4df28400-991f-4ec9-b382-dee87401171b",
   "metadata": {},
   "outputs": [],
   "source": []
  },
  {
   "cell_type": "code",
   "execution_count": null,
   "id": "a010eca1-3245-4ea8-8de7-11f53948dff7",
   "metadata": {},
   "outputs": [],
   "source": []
  },
  {
   "cell_type": "code",
   "execution_count": null,
   "id": "09f08e7d-1a6b-428b-9bbc-a6ab75254127",
   "metadata": {},
   "outputs": [],
   "source": []
  },
  {
   "cell_type": "code",
   "execution_count": null,
   "id": "33fc4113-10e3-4c0d-80bd-8b545ad29d0a",
   "metadata": {},
   "outputs": [],
   "source": []
  },
  {
   "cell_type": "code",
   "execution_count": null,
   "id": "4e2e348d-700b-4b5e-b26b-437defdc9b9c",
   "metadata": {},
   "outputs": [],
   "source": []
  },
  {
   "cell_type": "code",
   "execution_count": null,
   "id": "39190389-658d-4ba7-9a84-a4213ab6d9d7",
   "metadata": {},
   "outputs": [],
   "source": []
  },
  {
   "cell_type": "code",
   "execution_count": null,
   "id": "04ae612b-1e95-4b73-a3b4-45da1aa27d39",
   "metadata": {},
   "outputs": [],
   "source": []
  },
  {
   "cell_type": "code",
   "execution_count": null,
   "id": "82746e67-2c6f-40e9-8132-0bcccc3542dc",
   "metadata": {},
   "outputs": [],
   "source": []
  },
  {
   "cell_type": "code",
   "execution_count": null,
   "id": "2de22dda-0e67-48c0-b8fe-7c38b59dbc10",
   "metadata": {},
   "outputs": [],
   "source": []
  },
  {
   "cell_type": "code",
   "execution_count": null,
   "id": "4a596c2a-349b-4d1d-ba4a-dd05efef1d34",
   "metadata": {},
   "outputs": [],
   "source": []
  },
  {
   "cell_type": "code",
   "execution_count": null,
   "id": "af17ee86-67da-4a21-bfef-38a68ea24ed0",
   "metadata": {},
   "outputs": [],
   "source": []
  },
  {
   "cell_type": "code",
   "execution_count": null,
   "id": "75b63804-ad3d-4e18-92ac-c65349e317ab",
   "metadata": {},
   "outputs": [],
   "source": []
  },
  {
   "cell_type": "code",
   "execution_count": null,
   "id": "ee285c5f-2c01-41ce-a388-53cb086373a5",
   "metadata": {},
   "outputs": [],
   "source": []
  },
  {
   "cell_type": "code",
   "execution_count": null,
   "id": "246f0c7d-c93e-45b9-959a-3f881144bd22",
   "metadata": {},
   "outputs": [],
   "source": []
  },
  {
   "cell_type": "code",
   "execution_count": null,
   "id": "c1e34789-b25c-45f1-986c-c0d4a21fe931",
   "metadata": {},
   "outputs": [],
   "source": []
  },
  {
   "cell_type": "code",
   "execution_count": null,
   "id": "ffc77154-8254-44d8-af79-74c33b360d10",
   "metadata": {},
   "outputs": [],
   "source": []
  },
  {
   "cell_type": "code",
   "execution_count": null,
   "id": "31a01b1e-2326-4be1-bcfb-36c973bc0964",
   "metadata": {},
   "outputs": [],
   "source": []
  }
 ],
 "metadata": {
  "kernelspec": {
   "display_name": "Python 3 (ipykernel)",
   "language": "python",
   "name": "python3"
  },
  "language_info": {
   "codemirror_mode": {
    "name": "ipython",
    "version": 3
   },
   "file_extension": ".py",
   "mimetype": "text/x-python",
   "name": "python",
   "nbconvert_exporter": "python",
   "pygments_lexer": "ipython3",
   "version": "3.10.0"
  }
 },
 "nbformat": 4,
 "nbformat_minor": 5
}
