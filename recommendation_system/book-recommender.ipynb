{
 "cells": [
  {
   "cell_type": "code",
   "execution_count": 1,
   "metadata": {
    "_cell_guid": "b1076dfc-b9ad-4769-8c92-a6c4dae69d19",
    "_uuid": "8f2839f25d086af736a60e9eeb907d3b93b6e0e5"
   },
   "outputs": [],
   "source": [
    "# This Python 3 environment comes with many helpful analytics libraries installed\n",
    "# It is defined by the kaggle/python Docker image: https://github.com/kaggle/docker-python\n",
    "# For example, here's several helpful packages to load\n",
    "\n",
    "import numpy as np # linear algebra\n",
    "import pandas as pd # data processing, CSV file I/O (e.g. pd.read_csv)\n",
    "\n",
    "# Input data files are available in the read-only \"../input/\" directory\n",
    "# For example, running this (by clicking run or pressing Shift+Enter) will list all files under the input directory\n",
    "\n",
    "import os\n",
    "for dirname, _, filenames in os.walk('/kaggle/input'):\n",
    "    for filename in filenames:\n",
    "        print(os.path.join(dirname, filename))\n",
    "\n",
    "# You can write up to 20GB to the current directory (/kaggle/working/) that gets preserved as output when you create a version using \"Save & Run All\" \n",
    "# You can also write temporary files to /kaggle/temp/, but they won't be saved outside of the current session"
   ]
  },
  {
   "cell_type": "markdown",
   "metadata": {},
   "source": [
    "# **LOAD & CHECK DATA**"
   ]
  },
  {
   "cell_type": "code",
   "execution_count": null,
   "metadata": {
    "execution": {
     "iopub.execute_input": "2022-10-15T13:29:58.545446Z",
     "iopub.status.busy": "2022-10-15T13:29:58.545061Z",
     "iopub.status.idle": "2022-10-15T13:29:58.551089Z",
     "shell.execute_reply": "2022-10-15T13:29:58.550197Z",
     "shell.execute_reply.started": "2022-10-15T13:29:58.545412Z"
    }
   },
   "outputs": [],
   "source": [
    "import warnings\n",
    "warnings.filterwarnings(\"ignore\")\n",
    "import pandas as pd\n",
    "import numpy as np\n",
    "import matplotlib.pyplot as plt\n",
    "from sklearn.metrics.pairwise import cosine_similarity\n",
    "import re\n",
    "from PIL import Image\n",
    "import requests\n",
    "import random\n",
    "from sklearn.feature_extraction.text import CountVectorizer\n",
    "import nltk\n",
    "from nltk.corpus import stopwords"
   ]
  },
  {
   "cell_type": "code",
   "execution_count": null,
   "metadata": {
    "execution": {
     "iopub.execute_input": "2022-10-15T13:29:58.55283Z",
     "iopub.status.busy": "2022-10-15T13:29:58.552497Z",
     "iopub.status.idle": "2022-10-15T13:30:00.339122Z",
     "shell.execute_reply": "2022-10-15T13:30:00.337995Z",
     "shell.execute_reply.started": "2022-10-15T13:29:58.552788Z"
    }
   },
   "outputs": [],
   "source": [
    "books=pd.read_csv(\"../input/book-recommendation-dataset/Books.csv\")\n",
    "books.head(3)"
   ]
  },
  {
   "cell_type": "code",
   "execution_count": null,
   "metadata": {
    "execution": {
     "iopub.execute_input": "2022-10-15T13:30:00.341905Z",
     "iopub.status.busy": "2022-10-15T13:30:00.341515Z",
     "iopub.status.idle": "2022-10-15T13:30:00.9898Z",
     "shell.execute_reply": "2022-10-15T13:30:00.988761Z",
     "shell.execute_reply.started": "2022-10-15T13:30:00.34187Z"
    }
   },
   "outputs": [],
   "source": [
    "ratings=pd.read_csv(\"../input/book-recommendation-dataset/Ratings.csv\")\n",
    "ratings.head(3)"
   ]
  },
  {
   "cell_type": "code",
   "execution_count": null,
   "metadata": {
    "execution": {
     "iopub.execute_input": "2022-10-15T13:30:00.991859Z",
     "iopub.status.busy": "2022-10-15T13:30:00.990984Z",
     "iopub.status.idle": "2022-10-15T13:30:01.197592Z",
     "shell.execute_reply": "2022-10-15T13:30:01.196343Z",
     "shell.execute_reply.started": "2022-10-15T13:30:00.991813Z"
    }
   },
   "outputs": [],
   "source": [
    "users=pd.read_csv(\"../input/book-recommendation-dataset/Users.csv\")\n",
    "users.head(3)"
   ]
  },
  {
   "cell_type": "code",
   "execution_count": null,
   "metadata": {
    "execution": {
     "iopub.execute_input": "2022-10-15T13:30:01.200672Z",
     "iopub.status.busy": "2022-10-15T13:30:01.200305Z",
     "iopub.status.idle": "2022-10-15T13:30:01.20644Z",
     "shell.execute_reply": "2022-10-15T13:30:01.205542Z",
     "shell.execute_reply.started": "2022-10-15T13:30:01.20064Z"
    }
   },
   "outputs": [],
   "source": [
    "print(\"Books Shape: \" ,books.shape )\n",
    "print(\"Ratings Shape: \" ,ratings.shape )\n",
    "print(\"Users Shape: \" ,users.shape )"
   ]
  },
  {
   "cell_type": "code",
   "execution_count": null,
   "metadata": {
    "execution": {
     "iopub.execute_input": "2022-10-15T13:30:01.208527Z",
     "iopub.status.busy": "2022-10-15T13:30:01.20789Z",
     "iopub.status.idle": "2022-10-15T13:30:01.40536Z",
     "shell.execute_reply": "2022-10-15T13:30:01.404523Z",
     "shell.execute_reply.started": "2022-10-15T13:30:01.208494Z"
    }
   },
   "outputs": [],
   "source": [
    "print(\"Any null values in Books:\\n\" ,books.isnull().sum())\n",
    "print(\"Any null values in Ratings:\\n \",ratings.isnull().sum())\n",
    "print(\"Any null values in Users:\\n\",users.isnull().sum())"
   ]
  },
  {
   "cell_type": "markdown",
   "metadata": {},
   "source": [
    "# **PREPROCESSING**"
   ]
  },
  {
   "cell_type": "code",
   "execution_count": null,
   "metadata": {
    "execution": {
     "iopub.execute_input": "2022-10-15T13:30:01.407257Z",
     "iopub.status.busy": "2022-10-15T13:30:01.406497Z",
     "iopub.status.idle": "2022-10-15T13:30:02.182348Z",
     "shell.execute_reply": "2022-10-15T13:30:02.181118Z",
     "shell.execute_reply.started": "2022-10-15T13:30:01.407222Z"
    }
   },
   "outputs": [],
   "source": [
    "books_data=books.merge(ratings,on=\"ISBN\")\n",
    "books_data.head()"
   ]
  },
  {
   "cell_type": "code",
   "execution_count": null,
   "metadata": {
    "execution": {
     "iopub.execute_input": "2022-10-15T13:30:02.185742Z",
     "iopub.status.busy": "2022-10-15T13:30:02.185011Z",
     "iopub.status.idle": "2022-10-15T13:30:04.679298Z",
     "shell.execute_reply": "2022-10-15T13:30:04.678186Z",
     "shell.execute_reply.started": "2022-10-15T13:30:02.185693Z"
    }
   },
   "outputs": [],
   "source": [
    "df=books_data.copy()\n",
    "df.dropna(inplace=True)\n",
    "df.reset_index(drop=True,inplace=True)\n",
    "df.drop(columns=[\"ISBN\",\"Year-Of-Publication\",\"Image-URL-S\",\"Image-URL-M\"],axis=1,inplace=True)\n",
    "df.drop(index=df[df[\"Book-Rating\"]==0].index,inplace=True)\n",
    "df[\"Book-Title\"]=df[\"Book-Title\"].apply(lambda x: re.sub(\"[\\W_]+\",\" \",x).strip())\n",
    "df.head()"
   ]
  },
  {
   "cell_type": "markdown",
   "metadata": {},
   "source": [
    "# **POPULARITY BASED RECOMMENDATION SYSTEM**\n",
    "\n",
    "* Popularity based recommendation systems are based on the rating of items by all the users.\n",
    "* Popularity based recommendation systems works with the trend. It basically uses the items which are in trend right now."
   ]
  },
  {
   "cell_type": "code",
   "execution_count": null,
   "metadata": {
    "execution": {
     "iopub.execute_input": "2022-10-15T13:30:04.68325Z",
     "iopub.status.busy": "2022-10-15T13:30:04.682916Z",
     "iopub.status.idle": "2022-10-15T13:30:04.692907Z",
     "shell.execute_reply": "2022-10-15T13:30:04.691644Z",
     "shell.execute_reply.started": "2022-10-15T13:30:04.683221Z"
    }
   },
   "outputs": [],
   "source": [
    "def popular_books(df,n=100):\n",
    "    rating_count=df.groupby(\"Book-Title\").count()[\"Book-Rating\"].reset_index()\n",
    "    rating_count.rename(columns={\"Book-Rating\":\"NumberOfVotes\"},inplace=True)\n",
    "    \n",
    "    rating_average=df.groupby(\"Book-Title\")[\"Book-Rating\"].mean().reset_index()\n",
    "    rating_average.rename(columns={\"Book-Rating\":\"AverageRatings\"},inplace=True)\n",
    "    \n",
    "    popularBooks=rating_count.merge(rating_average,on=\"Book-Title\")\n",
    "    \n",
    "    def weighted_rate(x):\n",
    "        v=x[\"NumberOfVotes\"]\n",
    "        R=x[\"AverageRatings\"]\n",
    "        \n",
    "        return ((v*R) + (m*C)) / (v+m)\n",
    "    \n",
    "    C=popularBooks[\"AverageRatings\"].mean()\n",
    "    m=popularBooks[\"NumberOfVotes\"].quantile(0.90)\n",
    "    \n",
    "    popularBooks=popularBooks[popularBooks[\"NumberOfVotes\"] >=250]\n",
    "    popularBooks[\"Popularity\"]=popularBooks.apply(weighted_rate,axis=1)\n",
    "    popularBooks=popularBooks.sort_values(by=\"Popularity\",ascending=False)\n",
    "    return popularBooks[[\"Book-Title\",\"NumberOfVotes\",\"AverageRatings\",\"Popularity\"]].reset_index(drop=True).head(n)"
   ]
  },
  {
   "cell_type": "code",
   "execution_count": null,
   "metadata": {
    "execution": {
     "iopub.execute_input": "2022-10-15T13:30:04.694948Z",
     "iopub.status.busy": "2022-10-15T13:30:04.694561Z",
     "iopub.status.idle": "2022-10-15T13:30:09.540592Z",
     "shell.execute_reply": "2022-10-15T13:30:09.539428Z",
     "shell.execute_reply.started": "2022-10-15T13:30:04.694899Z"
    }
   },
   "outputs": [],
   "source": [
    "n=10\n",
    "top_ten=pd.DataFrame(popular_books(df,10))\n",
    "fig,ax=plt.subplots(1,10,figsize=(17,5))\n",
    "fig.suptitle(\"MOST POPULAR 10 BOOKS\",fontsize=40,color=\"deepskyblue\")\n",
    "for i in range(len(top_ten[\"Book-Title\"].tolist())):\n",
    "    url=df.loc[df[\"Book-Title\"]==top_ten[\"Book-Title\"].tolist()[i],\"Image-URL-L\"][:1].values[0]\n",
    "    img=Image.open(requests.get(url,stream=True).raw)\n",
    "    ax[i].imshow(img)\n",
    "    ax[i].axis(\"off\")\n",
    "    ax[i].set_title(\"RATING: {} \".format(round(df[df[\"Book-Title\"]==top_ten[\"Book-Title\"].tolist()[i]][\"Book-Rating\"].mean(),1)),y=-0.20,color=\"mediumorchid\",fontsize=10)\n",
    "    fig.show()"
   ]
  },
  {
   "cell_type": "markdown",
   "metadata": {},
   "source": [
    "# **ITEM-BASED COLLABORATIVE FILTERING**"
   ]
  },
  {
   "cell_type": "code",
   "execution_count": null,
   "metadata": {
    "execution": {
     "iopub.execute_input": "2022-10-15T13:30:09.542428Z",
     "iopub.status.busy": "2022-10-15T13:30:09.542067Z",
     "iopub.status.idle": "2022-10-15T13:30:09.559525Z",
     "shell.execute_reply": "2022-10-15T13:30:09.558346Z",
     "shell.execute_reply.started": "2022-10-15T13:30:09.542396Z"
    }
   },
   "outputs": [],
   "source": [
    "def item_based(bookTitle):\n",
    "    bookTitle=str(bookTitle)\n",
    "    \n",
    "    if bookTitle in df[\"Book-Title\"].values:\n",
    "        rating_count=pd.DataFrame(df[\"Book-Title\"].value_counts())\n",
    "        rare_books=rating_count[rating_count[\"Book-Title\"]<=200].index\n",
    "        common_books=df[~df[\"Book-Title\"].isin(rare_books)]\n",
    "        \n",
    "        if bookTitle in rare_books:\n",
    "            most_common=pd.Series(common_books[\"Book-Title\"].unique()).sample(3).values\n",
    "            print(\"No Recommendations for this Book ☹️ \\n \")\n",
    "            print(\"YOU MAY TRY: \\n \")\n",
    "            print(\"{}\".format(most_common[0]), \"\\n\")\n",
    "            print(\"{}\".format(most_common[1]), \"\\n\")\n",
    "            print(\"{}\".format(most_common[2]), \"\\n\")\n",
    "        else:\n",
    "            common_books_pivot=common_books.pivot_table(index=[\"User-ID\"],columns=[\"Book-Title\"],values=\"Book-Rating\")\n",
    "            title=common_books_pivot[bookTitle]\n",
    "            recommendation_df=pd.DataFrame(common_books_pivot.corrwith(title).sort_values(ascending=False)).reset_index(drop=False)\n",
    "            \n",
    "            if bookTitle in [title for title in recommendation_df[\"Book-Title\"]]:\n",
    "                recommendation_df=recommendation_df.drop(recommendation_df[recommendation_df[\"Book-Title\"]==bookTitle].index[0])\n",
    "                \n",
    "            less_rating=[]\n",
    "            for i in recommendation_df[\"Book-Title\"]:\n",
    "                if df[df[\"Book-Title\"]==i][\"Book-Rating\"].mean() < 5:\n",
    "                    less_rating.append(i)\n",
    "            if recommendation_df.shape[0] - len(less_rating) > 5:\n",
    "                recommendation_df=recommendation_df[~recommendation_df[\"Book-Title\"].isin(less_rating)]\n",
    "                \n",
    "            recommendation_df=recommendation_df[0:5]\n",
    "            recommendation_df.columns=[\"Book-Title\",\"Correlation\"]\n",
    "            \n",
    "            fig, ax = plt.subplots(1,5,figsize=(17,5))\n",
    "            fig.suptitle(\"WOULD YOU LIKE to TRY THESE BOOKS?\",fontsize=40,color=\"deepskyblue\")\n",
    "            for i in range(len(recommendation_df[\"Book-Title\"].tolist())):\n",
    "                url=df.loc[df[\"Book-Title\"]==recommendation_df[\"Book-Title\"].tolist()[i],\"Image-URL-L\"][:1].values[0]\n",
    "                img=Image.open(requests.get(url,stream=True).raw)\n",
    "                ax[i].imshow(img)\n",
    "                ax[i].axis(\"off\")\n",
    "                ax[i].set_title(\"RATING: {} \".format(round(df[df[\"Book-Title\"]==recommendation_df[\"Book-Title\"].tolist()[i]][\"Book-Rating\"].mean(),1)),y=-0.20,color=\"mediumorchid\",fontsize=22)\n",
    "                fig.show()\n",
    "    else:\n",
    "        print(\"❌ COULD NOT FIND ❌\")"
   ]
  },
  {
   "cell_type": "code",
   "execution_count": null,
   "metadata": {
    "execution": {
     "iopub.execute_input": "2022-10-15T13:30:09.562193Z",
     "iopub.status.busy": "2022-10-15T13:30:09.561849Z",
     "iopub.status.idle": "2022-10-15T13:30:13.162585Z",
     "shell.execute_reply": "2022-10-15T13:30:13.161694Z",
     "shell.execute_reply.started": "2022-10-15T13:30:09.562149Z"
    }
   },
   "outputs": [],
   "source": [
    "item_based(\"Me Talk Pretty One Day\")"
   ]
  },
  {
   "cell_type": "code",
   "execution_count": null,
   "metadata": {
    "execution": {
     "iopub.execute_input": "2022-10-15T13:30:13.164751Z",
     "iopub.status.busy": "2022-10-15T13:30:13.163854Z",
     "iopub.status.idle": "2022-10-15T13:30:13.386775Z",
     "shell.execute_reply": "2022-10-15T13:30:13.385586Z",
     "shell.execute_reply.started": "2022-10-15T13:30:13.164713Z"
    }
   },
   "outputs": [],
   "source": [
    "item_based(\"From One to One Hundred\")"
   ]
  },
  {
   "cell_type": "code",
   "execution_count": null,
   "metadata": {
    "execution": {
     "iopub.execute_input": "2022-10-15T13:30:13.388425Z",
     "iopub.status.busy": "2022-10-15T13:30:13.388064Z",
     "iopub.status.idle": "2022-10-15T13:30:17.002013Z",
     "shell.execute_reply": "2022-10-15T13:30:17.00058Z",
     "shell.execute_reply.started": "2022-10-15T13:30:13.388393Z"
    }
   },
   "outputs": [],
   "source": [
    "item_based(\"The Da Vinci Code\")"
   ]
  },
  {
   "cell_type": "code",
   "execution_count": null,
   "metadata": {
    "execution": {
     "iopub.execute_input": "2022-10-15T13:30:17.003997Z",
     "iopub.status.busy": "2022-10-15T13:30:17.003597Z",
     "iopub.status.idle": "2022-10-15T13:30:17.020919Z",
     "shell.execute_reply": "2022-10-15T13:30:17.019555Z",
     "shell.execute_reply.started": "2022-10-15T13:30:17.003961Z"
    }
   },
   "outputs": [],
   "source": [
    "item_based(\"Barbie\")"
   ]
  },
  {
   "cell_type": "markdown",
   "metadata": {},
   "source": [
    "# **USER-BASED COLLABORATIVE FILTERING**"
   ]
  },
  {
   "cell_type": "code",
   "execution_count": null,
   "metadata": {
    "execution": {
     "iopub.execute_input": "2022-10-15T13:30:17.023066Z",
     "iopub.status.busy": "2022-10-15T13:30:17.022737Z",
     "iopub.status.idle": "2022-10-15T13:30:17.409007Z",
     "shell.execute_reply": "2022-10-15T13:30:17.40811Z",
     "shell.execute_reply.started": "2022-10-15T13:30:17.023037Z"
    }
   },
   "outputs": [],
   "source": [
    "new_df=df[df['User-ID'].map(df['User-ID'].value_counts()) > 200]  # Drop users who vote less than 200 times.\n",
    "users_pivot=new_df.pivot_table(index=[\"User-ID\"],columns=[\"Book-Title\"],values=\"Book-Rating\")\n",
    "users_pivot.fillna(0,inplace=True)"
   ]
  },
  {
   "cell_type": "code",
   "execution_count": null,
   "metadata": {
    "execution": {
     "iopub.execute_input": "2022-10-15T13:30:17.410459Z",
     "iopub.status.busy": "2022-10-15T13:30:17.410147Z",
     "iopub.status.idle": "2022-10-15T13:30:17.4167Z",
     "shell.execute_reply": "2022-10-15T13:30:17.415593Z",
     "shell.execute_reply.started": "2022-10-15T13:30:17.410431Z"
    }
   },
   "outputs": [],
   "source": [
    "def users_choice(id):\n",
    "    \n",
    "    users_fav=new_df[new_df[\"User-ID\"]==id].sort_values([\"Book-Rating\"],ascending=False)[0:5]\n",
    "    return users_fav"
   ]
  },
  {
   "cell_type": "code",
   "execution_count": null,
   "metadata": {
    "execution": {
     "iopub.execute_input": "2022-10-15T13:30:17.419061Z",
     "iopub.status.busy": "2022-10-15T13:30:17.418157Z",
     "iopub.status.idle": "2022-10-15T13:30:17.42877Z",
     "shell.execute_reply": "2022-10-15T13:30:17.427658Z",
     "shell.execute_reply.started": "2022-10-15T13:30:17.419013Z"
    }
   },
   "outputs": [],
   "source": [
    "def user_based(new_df,id):\n",
    "    if id not in new_df[\"User-ID\"].values:\n",
    "        print(\"❌ User NOT FOUND ❌\")\n",
    "        \n",
    "        \n",
    "    else:\n",
    "        index=np.where(users_pivot.index==id)[0][0]\n",
    "        similarity=cosine_similarity(users_pivot)\n",
    "        similar_users=list(enumerate(similarity[index]))\n",
    "        similar_users = sorted(similar_users,key = lambda x:x[1],reverse=True)[0:5]\n",
    "    \n",
    "        user_rec=[]\n",
    "    \n",
    "        for i in similar_users:\n",
    "                data=df[df[\"User-ID\"]==users_pivot.index[i[0]]]\n",
    "                user_rec.extend(list(data.drop_duplicates(\"User-ID\")[\"User-ID\"].values))\n",
    "        \n",
    "    return user_rec"
   ]
  },
  {
   "cell_type": "code",
   "execution_count": null,
   "metadata": {
    "execution": {
     "iopub.execute_input": "2022-10-15T13:30:17.430472Z",
     "iopub.status.busy": "2022-10-15T13:30:17.430037Z",
     "iopub.status.idle": "2022-10-15T13:30:17.44485Z",
     "shell.execute_reply": "2022-10-15T13:30:17.443683Z",
     "shell.execute_reply.started": "2022-10-15T13:30:17.43043Z"
    }
   },
   "outputs": [],
   "source": [
    "def common(new_df,user,user_id):\n",
    "    x=new_df[new_df[\"User-ID\"]==user_id]\n",
    "    recommend_books=[]\n",
    "    user=list(user)\n",
    "    for i in user:\n",
    "        y=new_df[(new_df[\"User-ID\"]==i)]\n",
    "        books=y.loc[~y[\"Book-Title\"].isin(x[\"Book-Title\"]),:]\n",
    "        books=books.sort_values([\"Book-Rating\"],ascending=False)[0:5]\n",
    "        recommend_books.extend(books[\"Book-Title\"].values)\n",
    "        \n",
    "    return recommend_books[0:5]"
   ]
  },
  {
   "cell_type": "code",
   "execution_count": null,
   "metadata": {
    "execution": {
     "iopub.execute_input": "2022-10-15T13:30:17.446892Z",
     "iopub.status.busy": "2022-10-15T13:30:17.446563Z",
     "iopub.status.idle": "2022-10-15T13:30:21.461482Z",
     "shell.execute_reply": "2022-10-15T13:30:21.460429Z",
     "shell.execute_reply.started": "2022-10-15T13:30:17.446864Z"
    }
   },
   "outputs": [],
   "source": [
    "user_id=random.choice(new_df[\"User-ID\"].values)\n",
    "user_choice_df=pd.DataFrame(users_choice(user_id))\n",
    "user_favorite=users_choice(user_id)\n",
    "n=len(user_choice_df[\"Book-Title\"].values)\n",
    "print(\"🟦 USER: {} \".format(user_id))\n",
    "    \n",
    "fig,ax=plt.subplots(1,n,figsize=(17,5))\n",
    "fig.suptitle(\"YOUR FAVORITE BOOKS\",fontsize=40,color=\"salmon\")\n",
    "    \n",
    "for i in range(n):\n",
    "        url=new_df.loc[new_df[\"Book-Title\"]==user_choice_df[\"Book-Title\"].tolist()[i],\"Image-URL-L\"][:1].values[0]\n",
    "        img=Image.open(requests.get(url,stream=True).raw)\n",
    "        ax[i].imshow(img)\n",
    "        ax[i].axis(\"off\")\n",
    "        ax[i].set_title(\"RATING: {} \".format(round(new_df[new_df[\"Book-Title\"]==user_choice_df[\"Book-Title\"].tolist()[i]][\"Book-Rating\"].mean(),1)),y=-0.20,color=\"mediumorchid\",fontsize=22)\n",
    "        fig.show()\n",
    "\n",
    "user_based_rec=user_based(new_df,user_id)\n",
    "books_for_user=common(new_df,user_based_rec,user_id)\n",
    "books_for_userDF=pd.DataFrame(books_for_user,columns=[\"Book-Title\"])\n",
    "\n",
    "fig,ax=plt.subplots(1,5,figsize=(17,5))\n",
    "fig.suptitle(\"YOU MAY ALSO LIKE THESE BOOKS\",fontsize=40,color=\"mediumseagreen\")\n",
    "for i in range(5):\n",
    "    url=new_df.loc[new_df[\"Book-Title\"]==books_for_userDF[\"Book-Title\"].tolist()[i],\"Image-URL-L\"][:1].values[0]\n",
    "    img=Image.open(requests.get(url,stream=True).raw)\n",
    "    ax[i].imshow(img)\n",
    "    ax[i].axis(\"off\")\n",
    "    ax[i].set_title(\"RATING: {} \".format(round(new_df[new_df[\"Book-Title\"]==books_for_userDF[\"Book-Title\"].tolist()[i]][\"Book-Rating\"].mean(),1)),y=-0.20,color=\"mediumorchid\",fontsize=22)\n",
    "    fig.show()"
   ]
  },
  {
   "cell_type": "markdown",
   "metadata": {},
   "source": [
    "# **CONTENT-BASED COLLABORATIVE FILTERING** "
   ]
  },
  {
   "cell_type": "code",
   "execution_count": null,
   "metadata": {
    "execution": {
     "iopub.execute_input": "2022-10-15T13:34:52.373407Z",
     "iopub.status.busy": "2022-10-15T13:34:52.37294Z",
     "iopub.status.idle": "2022-10-15T13:34:52.391176Z",
     "shell.execute_reply": "2022-10-15T13:34:52.390082Z",
     "shell.execute_reply.started": "2022-10-15T13:34:52.373371Z"
    }
   },
   "outputs": [],
   "source": [
    "def content_based(bookTitle):\n",
    "    bookTitle=str(bookTitle)\n",
    "    \n",
    "    if bookTitle in df[\"Book-Title\"].values:\n",
    "        rating_count=pd.DataFrame(df[\"Book-Title\"].value_counts())\n",
    "        rare_books=rating_count[rating_count[\"Book-Title\"]<=200].index\n",
    "        common_books=df[~df[\"Book-Title\"].isin(rare_books)]\n",
    "        \n",
    "        if bookTitle in rare_books:\n",
    "            most_common=pd.Series(common_books[\"Book-Title\"].unique()).sample(3).values\n",
    "            print(\"No Recommendations for this Book ☹️ \\n \")\n",
    "            print(\"YOU MAY TRY: \\n \")\n",
    "            print(\"{}\".format(most_common[0]), \"\\n\")\n",
    "            print(\"{}\".format(most_common[1]), \"\\n\")\n",
    "            print(\"{}\".format(most_common[2]), \"\\n\")\n",
    "        else:\n",
    "            common_books=common_books.drop_duplicates(subset=[\"Book-Title\"])\n",
    "            common_books.reset_index(inplace=True)\n",
    "            common_books[\"index\"]=[i for i in range(common_books.shape[0])]\n",
    "            targets=[\"Book-Title\",\"Book-Author\",\"Publisher\"]\n",
    "            common_books[\"all_features\"] = [\" \".join(common_books[targets].iloc[i,].values) for i in range(common_books[targets].shape[0])]\n",
    "            vectorizer=CountVectorizer()\n",
    "            common_booksVector=vectorizer.fit_transform(common_books[\"all_features\"])\n",
    "            similarity=cosine_similarity(common_booksVector)\n",
    "            index=common_books[common_books[\"Book-Title\"]==bookTitle][\"index\"].values[0]\n",
    "            similar_books=list(enumerate(similarity[index]))\n",
    "            similar_booksSorted=sorted(similar_books,key=lambda x:x[1],reverse=True)[1:6]\n",
    "            books=[]\n",
    "            for i in range(len(similar_booksSorted)):\n",
    "                \n",
    "                books.append(common_books[common_books[\"index\"]==similar_booksSorted[i][0]][\"Book-Title\"].item())\n",
    "            fig,ax=plt.subplots(1,5,figsize=(17,5))\n",
    "            fig.suptitle(\"YOU MAY ALSO LIKE THESE BOOKS\",fontsize=40,color=\"chocolate\")\n",
    "                \n",
    "            for i in range(len(books)):\n",
    "                \n",
    "                url=common_books.loc[common_books[\"Book-Title\"]==books[i],\"Image-URL-L\"][:1].values[0]\n",
    "                img=Image.open(requests.get(url,stream=True).raw)\n",
    "                ax[i].imshow(img)\n",
    "                ax[i].axis(\"off\")\n",
    "                ax[i].set_title(\"RATING: {}\".format(round(df[df[\"Book-Title\"]==books[i]][\"Book-Rating\"].mean(),1)),y=-0.20,color=\"mediumorchid\",fontsize=22)\n",
    "                fig.show()\n",
    "\n",
    "    else:\n",
    "        print(\"❌ COULD NOT FIND ❌\")               "
   ]
  },
  {
   "cell_type": "code",
   "execution_count": null,
   "metadata": {
    "execution": {
     "iopub.execute_input": "2022-10-15T13:35:42.032949Z",
     "iopub.status.busy": "2022-10-15T13:35:42.032517Z",
     "iopub.status.idle": "2022-10-15T13:35:44.31013Z",
     "shell.execute_reply": "2022-10-15T13:35:44.30892Z",
     "shell.execute_reply.started": "2022-10-15T13:35:42.032912Z"
    }
   },
   "outputs": [],
   "source": [
    "content_based(\"The Da Vinci Code\")"
   ]
  },
  {
   "cell_type": "code",
   "execution_count": null,
   "metadata": {
    "execution": {
     "iopub.execute_input": "2022-10-15T14:26:28.406549Z",
     "iopub.status.busy": "2022-10-15T14:26:28.405763Z",
     "iopub.status.idle": "2022-10-15T14:26:30.84033Z",
     "shell.execute_reply": "2022-10-15T14:26:30.839485Z",
     "shell.execute_reply.started": "2022-10-15T14:26:28.406512Z"
    }
   },
   "outputs": [],
   "source": [
    "content_based(\"Tuesdays with Morrie An Old Man a Young Man and Life s Greatest Lesson\")"
   ]
  },
  {
   "cell_type": "code",
   "execution_count": null,
   "metadata": {
    "execution": {
     "iopub.execute_input": "2022-10-15T13:40:50.753912Z",
     "iopub.status.busy": "2022-10-15T13:40:50.753518Z",
     "iopub.status.idle": "2022-10-15T13:40:50.985926Z",
     "shell.execute_reply": "2022-10-15T13:40:50.984771Z",
     "shell.execute_reply.started": "2022-10-15T13:40:50.753882Z"
    }
   },
   "outputs": [],
   "source": [
    "content_based(\"A Soldier of the Great War\")"
   ]
  },
  {
   "cell_type": "code",
   "execution_count": null,
   "metadata": {
    "execution": {
     "iopub.execute_input": "2022-10-15T14:26:59.118606Z",
     "iopub.status.busy": "2022-10-15T14:26:59.118165Z",
     "iopub.status.idle": "2022-10-15T14:27:01.37776Z",
     "shell.execute_reply": "2022-10-15T14:27:01.376633Z",
     "shell.execute_reply.started": "2022-10-15T14:26:59.118569Z"
    }
   },
   "outputs": [],
   "source": [
    "content_based(\"Life of Pi\")"
   ]
  }
 ],
 "metadata": {
  "kaggle": {
   "accelerator": "none",
   "dataSources": [
    {
     "datasetId": 1004280,
     "sourceId": 7595263,
     "sourceType": "datasetVersion"
    }
   ],
   "dockerImageVersionId": 30260,
   "isGpuEnabled": false,
   "isInternetEnabled": true,
   "language": "python",
   "sourceType": "notebook"
  },
  "kernelspec": {
   "display_name": "Python 3 (ipykernel)",
   "language": "python",
   "name": "python3"
  },
  "language_info": {
   "codemirror_mode": {
    "name": "ipython",
    "version": 3
   },
   "file_extension": ".py",
   "mimetype": "text/x-python",
   "name": "python",
   "nbconvert_exporter": "python",
   "pygments_lexer": "ipython3",
   "version": "3.10.0"
  }
 },
 "nbformat": 4,
 "nbformat_minor": 4
}
