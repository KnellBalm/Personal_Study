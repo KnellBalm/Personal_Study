{
 "cells": [
  {
   "cell_type": "code",
   "execution_count": null,
   "metadata": {
    "_cell_guid": "b1076dfc-b9ad-4769-8c92-a6c4dae69d19",
    "_uuid": "8f2839f25d086af736a60e9eeb907d3b93b6e0e5",
    "execution": {
     "iopub.execute_input": "2021-11-03T17:54:32.16179Z",
     "iopub.status.busy": "2021-11-03T17:54:32.161416Z",
     "iopub.status.idle": "2021-11-03T17:54:32.185881Z",
     "shell.execute_reply": "2021-11-03T17:54:32.18522Z",
     "shell.execute_reply.started": "2021-11-03T17:54:32.161692Z"
    }
   },
   "outputs": [],
   "source": [
    "import numpy as np # linear algebra\n",
    "import pandas as pd # data processing, CSV file I/O (e.g. pd.read_csv)\n"
   ]
  },
  {
   "cell_type": "code",
   "execution_count": null,
   "metadata": {
    "execution": {
     "iopub.execute_input": "2021-11-03T17:54:32.1875Z",
     "iopub.status.busy": "2021-11-03T17:54:32.18701Z",
     "iopub.status.idle": "2021-11-03T17:54:36.142789Z",
     "shell.execute_reply": "2021-11-03T17:54:36.141684Z",
     "shell.execute_reply.started": "2021-11-03T17:54:32.187468Z"
    }
   },
   "outputs": [],
   "source": [
    "book_df = pd.read_csv('../input/book-recommendation-dataset/Books.csv')\n",
    "ratings_df = pd.read_csv('../input/book-recommendation-dataset/Ratings.csv').sample(40000)\n",
    "user_df = pd.read_csv('../input/book-recommendation-dataset/Users.csv')\n",
    "user_rating_df = ratings_df.merge(user_df, left_on = 'User-ID', right_on = 'User-ID')"
   ]
  },
  {
   "cell_type": "markdown",
   "metadata": {},
   "source": [
    "# Collaborative Filtering"
   ]
  },
  {
   "cell_type": "code",
   "execution_count": null,
   "metadata": {
    "execution": {
     "iopub.execute_input": "2021-11-03T17:54:36.145209Z",
     "iopub.status.busy": "2021-11-03T17:54:36.144578Z",
     "iopub.status.idle": "2021-11-03T17:54:36.339618Z",
     "shell.execute_reply": "2021-11-03T17:54:36.338414Z",
     "shell.execute_reply.started": "2021-11-03T17:54:36.145156Z"
    }
   },
   "outputs": [],
   "source": [
    "book_user_rating = book_df.merge(user_rating_df, left_on = 'ISBN',right_on = 'ISBN')\n",
    "book_user_rating = book_user_rating[['ISBN', 'Book-Title', 'Book-Author', 'User-ID', 'Book-Rating']]\n",
    "book_user_rating.reset_index(drop=True, inplace = True)"
   ]
  },
  {
   "cell_type": "code",
   "execution_count": null,
   "metadata": {
    "execution": {
     "iopub.execute_input": "2021-11-03T17:54:36.341146Z",
     "iopub.status.busy": "2021-11-03T17:54:36.340898Z",
     "iopub.status.idle": "2021-11-03T17:54:36.385358Z",
     "shell.execute_reply": "2021-11-03T17:54:36.384192Z",
     "shell.execute_reply.started": "2021-11-03T17:54:36.341115Z"
    }
   },
   "outputs": [],
   "source": [
    "d ={}\n",
    "for i,j in enumerate(book_user_rating.ISBN.unique()):\n",
    "    d[j] =i\n",
    "book_user_rating['unique_id_book'] = book_user_rating['ISBN'].map(d)\n"
   ]
  },
  {
   "cell_type": "code",
   "execution_count": null,
   "metadata": {
    "execution": {
     "iopub.execute_input": "2021-11-03T17:54:36.387805Z",
     "iopub.status.busy": "2021-11-03T17:54:36.38756Z",
     "iopub.status.idle": "2021-11-03T17:54:41.276137Z",
     "shell.execute_reply": "2021-11-03T17:54:41.275094Z",
     "shell.execute_reply.started": "2021-11-03T17:54:36.387778Z"
    }
   },
   "outputs": [],
   "source": [
    "users_books_pivot_matrix_df = book_user_rating.pivot(index='User-ID', \n",
    "                                                          columns='unique_id_book', \n",
    "                                                          values='Book-Rating').fillna(0)\n",
    "\n"
   ]
  },
  {
   "cell_type": "code",
   "execution_count": null,
   "metadata": {
    "execution": {
     "iopub.execute_input": "2021-11-03T17:54:41.2777Z",
     "iopub.status.busy": "2021-11-03T17:54:41.277472Z",
     "iopub.status.idle": "2021-11-03T17:54:41.314733Z",
     "shell.execute_reply": "2021-11-03T17:54:41.31387Z",
     "shell.execute_reply.started": "2021-11-03T17:54:41.277673Z"
    }
   },
   "outputs": [],
   "source": [
    "users_books_pivot_matrix_df.head()"
   ]
  },
  {
   "cell_type": "code",
   "execution_count": null,
   "metadata": {
    "execution": {
     "iopub.execute_input": "2021-11-03T17:54:41.316357Z",
     "iopub.status.busy": "2021-11-03T17:54:41.316112Z",
     "iopub.status.idle": "2021-11-03T17:54:41.321885Z",
     "shell.execute_reply": "2021-11-03T17:54:41.321135Z",
     "shell.execute_reply.started": "2021-11-03T17:54:41.316329Z"
    }
   },
   "outputs": [],
   "source": [
    "users_books_pivot_matrix_df = users_books_pivot_matrix_df.values\n",
    "users_books_pivot_matrix_df"
   ]
  },
  {
   "cell_type": "code",
   "execution_count": null,
   "metadata": {
    "execution": {
     "iopub.execute_input": "2021-11-03T17:54:41.323443Z",
     "iopub.status.busy": "2021-11-03T17:54:41.322816Z",
     "iopub.status.idle": "2021-11-03T17:55:05.375786Z",
     "shell.execute_reply": "2021-11-03T17:55:05.374767Z",
     "shell.execute_reply.started": "2021-11-03T17:54:41.323403Z"
    }
   },
   "outputs": [],
   "source": [
    "from scipy.sparse.linalg import svds\n",
    "\n",
    "NUMBER_OF_FACTORS_MF = 15\n",
    "\n",
    "#Performs matrix factorization of the original user item matrix\n",
    "U, sigma, Vt = svds(users_books_pivot_matrix_df, k = NUMBER_OF_FACTORS_MF)"
   ]
  },
  {
   "cell_type": "code",
   "execution_count": null,
   "metadata": {
    "execution": {
     "iopub.execute_input": "2021-11-03T17:55:05.385443Z",
     "iopub.status.busy": "2021-11-03T17:55:05.382323Z",
     "iopub.status.idle": "2021-11-03T17:55:05.396432Z",
     "shell.execute_reply": "2021-11-03T17:55:05.395382Z",
     "shell.execute_reply.started": "2021-11-03T17:55:05.385357Z"
    }
   },
   "outputs": [],
   "source": [
    "sigma = np.diag(sigma)\n",
    "sigma.shape"
   ]
  },
  {
   "cell_type": "code",
   "execution_count": null,
   "metadata": {
    "execution": {
     "iopub.execute_input": "2021-11-03T17:55:05.399687Z",
     "iopub.status.busy": "2021-11-03T17:55:05.398782Z",
     "iopub.status.idle": "2021-11-03T17:55:06.338671Z",
     "shell.execute_reply": "2021-11-03T17:55:06.337814Z",
     "shell.execute_reply.started": "2021-11-03T17:55:05.39963Z"
    }
   },
   "outputs": [],
   "source": [
    "all_user_predicted_ratings = np.dot(np.dot(U, sigma), Vt) \n",
    "all_user_predicted_ratings"
   ]
  },
  {
   "cell_type": "code",
   "execution_count": null,
   "metadata": {
    "execution": {
     "iopub.execute_input": "2021-11-03T17:55:06.348275Z",
     "iopub.status.busy": "2021-11-03T17:55:06.344572Z",
     "iopub.status.idle": "2021-11-03T17:55:06.35963Z",
     "shell.execute_reply": "2021-11-03T17:55:06.358687Z",
     "shell.execute_reply.started": "2021-11-03T17:55:06.348188Z"
    }
   },
   "outputs": [],
   "source": [
    "def top_cosine_similarity(data, book_id, top_n=10):\n",
    "    index = book_id \n",
    "    book_row = data[index, :]\n",
    "    magnitude = np.sqrt(np.einsum('ij, ij -> i', data, data))\n",
    "    similarity = np.dot(book_row, data.T) / (magnitude[index] * magnitude)\n",
    "    sort_indexes = np.argsort(-similarity)\n",
    "    return sort_indexes[:top_n]\n",
    "\n",
    "def similar_books(book_user_rating, book_id, top_indexes):\n",
    "    print('Recommendations for {0}: \\n'.format(\n",
    "    book_user_rating[book_user_rating.unique_id_book == book_id]['Book-Title'].values[0]))\n",
    "    for id in top_indexes + 1:\n",
    "        print(book_user_rating[book_user_rating.unique_id_book == id]['Book-Title'].values[0])\n",
    "\n"
   ]
  },
  {
   "cell_type": "code",
   "execution_count": null,
   "metadata": {
    "execution": {
     "iopub.execute_input": "2021-11-03T17:55:06.368358Z",
     "iopub.status.busy": "2021-11-03T17:55:06.365446Z",
     "iopub.status.idle": "2021-11-03T17:55:06.39681Z",
     "shell.execute_reply": "2021-11-03T17:55:06.395789Z",
     "shell.execute_reply.started": "2021-11-03T17:55:06.368294Z"
    }
   },
   "outputs": [],
   "source": [
    "k = 50\n",
    "movie_id =25954  \n",
    "top_n = 3\n",
    "sliced = Vt.T[:, :k] # representative data\n",
    "\n",
    "similar_books(book_user_rating, 25954, top_cosine_similarity(sliced, movie_id, top_n))\n"
   ]
  },
  {
   "cell_type": "markdown",
   "metadata": {},
   "source": [
    "# App link:\n",
    "\n",
    "https://book-recommendation-system-svd.herokuapp.com/\n",
    "\n"
   ]
  }
 ],
 "metadata": {
  "kaggle": {
   "accelerator": "none",
   "dataSources": [
    {
     "datasetId": 1004280,
     "sourceId": 7595263,
     "sourceType": "datasetVersion"
    }
   ],
   "dockerImageVersionId": 30145,
   "isGpuEnabled": false,
   "isInternetEnabled": true,
   "language": "python",
   "sourceType": "notebook"
  },
  "kernelspec": {
   "display_name": "Python 3 (ipykernel)",
   "language": "python",
   "name": "python3"
  },
  "language_info": {
   "codemirror_mode": {
    "name": "ipython",
    "version": 3
   },
   "file_extension": ".py",
   "mimetype": "text/x-python",
   "name": "python",
   "nbconvert_exporter": "python",
   "pygments_lexer": "ipython3",
   "version": "3.10.0"
  }
 },
 "nbformat": 4,
 "nbformat_minor": 4
}
