{
 "cells": [
  {
   "cell_type": "code",
   "execution_count": null,
   "id": "08866840",
   "metadata": {},
   "outputs": [],
   "source": [
    "import pandas as pd\n",
    "pd.set_option(\"display.max_columns\", None)\n",
    "import kagglehub\n",
    "# Download latest version\n",
    "path = kagglehub.dataset_download(\"mohitsharma527/amazon-reviews-us-electronics\")\n",
    "print(\"Path to dataset files:\", path)"
   ]
  },
  {
   "cell_type": "code",
   "execution_count": null,
   "id": "d30f18df",
   "metadata": {},
   "outputs": [],
   "source": []
  },
  {
   "cell_type": "code",
   "execution_count": 7,
   "id": "cc0d6110",
   "metadata": {},
   "outputs": [],
   "source": [
    "df = pd.read_csv('/home/naca11/.cache/kagglehub/datasets/mohitsharma527/amazon-reviews-us-electronics/versions/1/amazon_reviews_us_Electronics_v1_00.tsv', sep='\\t',on_bad_lines=\"skip\")"
   ]
  },
  {
   "cell_type": "code",
   "execution_count": 13,
   "id": "b52414e6",
   "metadata": {},
   "outputs": [
    {
     "name": "stdout",
     "output_type": "stream",
     "text": [
      "전체 데이터 크기: 3,091,024\n"
     ]
    }
   ],
   "source": [
    "# 4) 데이터 프레임 정보 확인\n",
    "print(\"전체 데이터 크기:\", f\"{df.shape[0]:,}\")"
   ]
  },
  {
   "cell_type": "code",
   "execution_count": 15,
   "id": "eac72f48",
   "metadata": {},
   "outputs": [
    {
     "name": "stdout",
     "output_type": "stream",
     "text": [
      "<class 'pandas.core.frame.DataFrame'>\n",
      "RangeIndex: 3091024 entries, 0 to 3091023\n",
      "Data columns (total 15 columns):\n",
      " #   Column             Dtype \n",
      "---  ------             ----- \n",
      " 0   marketplace        object\n",
      " 1   customer_id        int64 \n",
      " 2   review_id          object\n",
      " 3   product_id         object\n",
      " 4   product_parent     int64 \n",
      " 5   product_title      object\n",
      " 6   product_category   object\n",
      " 7   star_rating        int64 \n",
      " 8   helpful_votes      int64 \n",
      " 9   total_votes        int64 \n",
      " 10  vine               object\n",
      " 11  verified_purchase  object\n",
      " 12  review_headline    object\n",
      " 13  review_body        object\n",
      " 14  review_date        object\n",
      "dtypes: int64(5), object(10)\n",
      "memory usage: 353.7+ MB\n"
     ]
    }
   ],
   "source": [
    "df.info()"
   ]
  },
  {
   "cell_type": "code",
   "execution_count": 18,
   "id": "2c47a41c",
   "metadata": {},
   "outputs": [
    {
     "name": "stdout",
     "output_type": "stream",
     "text": [
      "전체 데이터 크기: (3091024, 15)\n",
      "\n",
      "컬럼별 데이터 타입 및 결측치 현황:\n",
      "<class 'pandas.core.frame.DataFrame'>\n",
      "RangeIndex: 3091024 entries, 0 to 3091023\n",
      "Data columns (total 15 columns):\n",
      " #   Column             Dtype \n",
      "---  ------             ----- \n",
      " 0   marketplace        object\n",
      " 1   customer_id        int64 \n",
      " 2   review_id          object\n",
      " 3   product_id         object\n",
      " 4   product_parent     int64 \n",
      " 5   product_title      object\n",
      " 6   product_category   object\n",
      " 7   star_rating        int64 \n",
      " 8   helpful_votes      int64 \n",
      " 9   total_votes        int64 \n",
      " 10  vine               object\n",
      " 11  verified_purchase  object\n",
      " 12  review_headline    object\n",
      " 13  review_body        object\n",
      " 14  review_date        object\n",
      "dtypes: int64(5), object(10)\n",
      "memory usage: 353.7+ MB\n"
     ]
    },
    {
     "data": {
      "text/plain": [
       "None"
      ]
     },
     "metadata": {},
     "output_type": "display_data"
    },
    {
     "name": "stdout",
     "output_type": "stream",
     "text": [
      "marketplace            0\n",
      "customer_id            0\n",
      "review_id              0\n",
      "product_id             0\n",
      "product_parent         0\n",
      "product_title          4\n",
      "product_category       0\n",
      "star_rating            0\n",
      "helpful_votes          0\n",
      "total_votes            0\n",
      "vine                   0\n",
      "verified_purchase      0\n",
      "review_headline       39\n",
      "review_body          147\n",
      "review_date           24\n",
      "dtype: int64\n",
      "\n",
      "별점(star_rating) 분포:\n"
     ]
    },
    {
     "data": {
      "text/plain": [
       "star_rating\n",
       "1     357817\n",
       "2     179032\n",
       "3     238387\n",
       "4     536417\n",
       "5    1779371\n",
       "Name: count, dtype: int64"
      ]
     },
     "metadata": {},
     "output_type": "display_data"
    },
    {
     "name": "stdout",
     "output_type": "stream",
     "text": [
      "\n",
      "고유 사용자 수: 3,091,024명\n",
      "고유 아이템 수: 185,774개\n",
      "\n",
      "데이터 희소도: 99.9995%\n"
     ]
    }
   ],
   "source": [
    "# 2) 기초 정보 확인\n",
    "print(\"전체 데이터 크기:\", df.shape)\n",
    "print(\"\\n컬럼별 데이터 타입 및 결측치 현황:\")\n",
    "display(df.info())\n",
    "print(df.isnull().sum())\n",
    "\n",
    "# 3) 평점 분포 확인\n",
    "print(\"\\n별점(star_rating) 분포:\")\n",
    "display(df['star_rating'].value_counts().sort_index())\n",
    "\n",
    "# 4) 사용자·아이템 수\n",
    "n_users = df['review_id'].nunique()\n",
    "n_items = df['product_id'].nunique()\n",
    "print(f\"\\n고유 사용자 수: {n_users:,}명\")\n",
    "print(f\"고유 아이템 수: {n_items:,}개\")\n",
    "\n",
    "# 5) 희소도(sparsity) 계산\n",
    "total_possible = n_users * n_items\n",
    "n_ratings = len(df)\n",
    "sparsity = 1 - (n_ratings / total_possible)\n",
    "print(f\"\\n데이터 희소도: {sparsity:.4%}\")"
   ]
  },
  {
   "cell_type": "code",
   "execution_count": null,
   "id": "5688781d",
   "metadata": {},
   "outputs": [],
   "source": []
  }
 ],
 "metadata": {
  "kernelspec": {
   "display_name": "Python 3",
   "language": "python",
   "name": "python3"
  },
  "language_info": {
   "codemirror_mode": {
    "name": "ipython",
    "version": 3
   },
   "file_extension": ".py",
   "mimetype": "text/x-python",
   "name": "python",
   "nbconvert_exporter": "python",
   "pygments_lexer": "ipython3",
   "version": "3.10.0"
  }
 },
 "nbformat": 4,
 "nbformat_minor": 5
}
