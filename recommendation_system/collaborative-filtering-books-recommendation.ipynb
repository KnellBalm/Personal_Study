{
 "cells": [
  {
   "cell_type": "markdown",
   "metadata": {},
   "source": [
    "# Intorduction\n",
    "This notebook explores the application of collaborative filtering (CF) in building a book recommendation system. CF leverages the wisdom of the crowd, drawing insights from the reading preferences of other users to suggest books you might enjoy. By analyzing user-book interactions, the system identifies patterns and similarities between readers, ultimately recommending titles aligned with your tastes."
   ]
  },
  {
   "cell_type": "markdown",
   "metadata": {},
   "source": [
    "# Importing Libraries"
   ]
  },
  {
   "cell_type": "code",
   "execution_count": null,
   "metadata": {
    "_cell_guid": "b1076dfc-b9ad-4769-8c92-a6c4dae69d19",
    "_uuid": "8f2839f25d086af736a60e9eeb907d3b93b6e0e5",
    "execution": {
     "iopub.execute_input": "2024-02-12T21:34:36.181107Z",
     "iopub.status.busy": "2024-02-12T21:34:36.180486Z",
     "iopub.status.idle": "2024-02-12T21:34:36.189374Z",
     "shell.execute_reply": "2024-02-12T21:34:36.187393Z",
     "shell.execute_reply.started": "2024-02-12T21:34:36.181038Z"
    }
   },
   "outputs": [],
   "source": [
    "import numpy as np # linear algebra\n",
    "import pandas as pd # data processing, CSV file I/O (e.g. pd.read_csv)\n",
    "import matplotlib.pyplot as plt\n",
    "import seaborn as sns\n",
    "import warnings\n",
    "warnings.filterwarnings(\"ignore\")"
   ]
  },
  {
   "cell_type": "markdown",
   "metadata": {},
   "source": [
    "# Loading the Data"
   ]
  },
  {
   "cell_type": "code",
   "execution_count": null,
   "metadata": {
    "execution": {
     "iopub.execute_input": "2024-02-12T21:34:36.192814Z",
     "iopub.status.busy": "2024-02-12T21:34:36.192221Z",
     "iopub.status.idle": "2024-02-12T21:34:40.00195Z",
     "shell.execute_reply": "2024-02-12T21:34:39.999626Z",
     "shell.execute_reply.started": "2024-02-12T21:34:36.192698Z"
    }
   },
   "outputs": [],
   "source": [
    "books = pd.read_csv(\"/kaggle/input/book-recommendation-dataset/Books.csv\")\n",
    "users = pd.read_csv(\"/kaggle/input/book-recommendation-dataset/Users.csv\")\n",
    "ratings = pd.read_csv(\"/kaggle/input/book-recommendation-dataset/Ratings.csv\")"
   ]
  },
  {
   "cell_type": "markdown",
   "metadata": {},
   "source": [
    "# EDA"
   ]
  },
  {
   "cell_type": "code",
   "execution_count": null,
   "metadata": {
    "execution": {
     "iopub.execute_input": "2024-02-12T21:34:40.006926Z",
     "iopub.status.busy": "2024-02-12T21:34:40.005677Z",
     "iopub.status.idle": "2024-02-12T21:34:40.042969Z",
     "shell.execute_reply": "2024-02-12T21:34:40.040887Z",
     "shell.execute_reply.started": "2024-02-12T21:34:40.006862Z"
    }
   },
   "outputs": [],
   "source": [
    "books.head()"
   ]
  },
  {
   "cell_type": "code",
   "execution_count": null,
   "metadata": {
    "execution": {
     "iopub.execute_input": "2024-02-12T21:34:40.04545Z",
     "iopub.status.busy": "2024-02-12T21:34:40.044819Z",
     "iopub.status.idle": "2024-02-12T21:34:40.070439Z",
     "shell.execute_reply": "2024-02-12T21:34:40.068659Z",
     "shell.execute_reply.started": "2024-02-12T21:34:40.045409Z"
    }
   },
   "outputs": [],
   "source": [
    "users.head()"
   ]
  },
  {
   "cell_type": "code",
   "execution_count": null,
   "metadata": {
    "execution": {
     "iopub.execute_input": "2024-02-12T21:34:40.074764Z",
     "iopub.status.busy": "2024-02-12T21:34:40.074294Z",
     "iopub.status.idle": "2024-02-12T21:34:40.090664Z",
     "shell.execute_reply": "2024-02-12T21:34:40.088903Z",
     "shell.execute_reply.started": "2024-02-12T21:34:40.074729Z"
    }
   },
   "outputs": [],
   "source": [
    "ratings.head()"
   ]
  },
  {
   "cell_type": "code",
   "execution_count": null,
   "metadata": {
    "execution": {
     "iopub.execute_input": "2024-02-12T21:34:40.094255Z",
     "iopub.status.busy": "2024-02-12T21:34:40.092662Z",
     "iopub.status.idle": "2024-02-12T21:34:40.106437Z",
     "shell.execute_reply": "2024-02-12T21:34:40.105322Z",
     "shell.execute_reply.started": "2024-02-12T21:34:40.094182Z"
    }
   },
   "outputs": [],
   "source": [
    "print(books.shape)\n",
    "print(ratings.shape)\n",
    "print(users.shape)"
   ]
  },
  {
   "cell_type": "code",
   "execution_count": null,
   "metadata": {
    "execution": {
     "iopub.execute_input": "2024-02-12T21:34:40.111764Z",
     "iopub.status.busy": "2024-02-12T21:34:40.109505Z",
     "iopub.status.idle": "2024-02-12T21:34:40.395704Z",
     "shell.execute_reply": "2024-02-12T21:34:40.394342Z",
     "shell.execute_reply.started": "2024-02-12T21:34:40.111699Z"
    }
   },
   "outputs": [],
   "source": [
    "books.isnull().sum()"
   ]
  },
  {
   "cell_type": "code",
   "execution_count": null,
   "metadata": {
    "execution": {
     "iopub.execute_input": "2024-02-12T21:34:40.399254Z",
     "iopub.status.busy": "2024-02-12T21:34:40.397705Z",
     "iopub.status.idle": "2024-02-12T21:34:40.449416Z",
     "shell.execute_reply": "2024-02-12T21:34:40.447845Z",
     "shell.execute_reply.started": "2024-02-12T21:34:40.399195Z"
    }
   },
   "outputs": [],
   "source": [
    "users.isnull().sum()"
   ]
  },
  {
   "cell_type": "code",
   "execution_count": null,
   "metadata": {
    "execution": {
     "iopub.execute_input": "2024-02-12T21:34:40.453087Z",
     "iopub.status.busy": "2024-02-12T21:34:40.452116Z",
     "iopub.status.idle": "2024-02-12T21:34:40.610525Z",
     "shell.execute_reply": "2024-02-12T21:34:40.609366Z",
     "shell.execute_reply.started": "2024-02-12T21:34:40.453026Z"
    }
   },
   "outputs": [],
   "source": [
    "ratings.isnull().sum()"
   ]
  },
  {
   "cell_type": "code",
   "execution_count": null,
   "metadata": {
    "execution": {
     "iopub.execute_input": "2024-02-12T21:34:40.613863Z",
     "iopub.status.busy": "2024-02-12T21:34:40.612748Z",
     "iopub.status.idle": "2024-02-12T21:34:42.032717Z",
     "shell.execute_reply": "2024-02-12T21:34:42.031124Z",
     "shell.execute_reply.started": "2024-02-12T21:34:40.613817Z"
    }
   },
   "outputs": [],
   "source": [
    "print(books.duplicated().sum())\n",
    "print(users.duplicated().sum())\n",
    "print(ratings.duplicated().sum())"
   ]
  },
  {
   "cell_type": "markdown",
   "metadata": {},
   "source": [
    "Let's perform a merge operation between ratings and books dataframes, to combine relevant information based on the shared key 'ISBN' ."
   ]
  },
  {
   "cell_type": "code",
   "execution_count": null,
   "metadata": {
    "execution": {
     "iopub.execute_input": "2024-02-12T21:34:42.039959Z",
     "iopub.status.busy": "2024-02-12T21:34:42.038666Z",
     "iopub.status.idle": "2024-02-12T21:34:43.840019Z",
     "shell.execute_reply": "2024-02-12T21:34:43.838553Z",
     "shell.execute_reply.started": "2024-02-12T21:34:42.039878Z"
    }
   },
   "outputs": [],
   "source": [
    "ratings_with_book_titles = ratings.merge(books,on='ISBN')"
   ]
  },
  {
   "cell_type": "code",
   "execution_count": null,
   "metadata": {
    "execution": {
     "iopub.execute_input": "2024-02-12T21:34:43.843123Z",
     "iopub.status.busy": "2024-02-12T21:34:43.841897Z",
     "iopub.status.idle": "2024-02-12T21:34:44.098795Z",
     "shell.execute_reply": "2024-02-12T21:34:44.09666Z",
     "shell.execute_reply.started": "2024-02-12T21:34:43.843081Z"
    }
   },
   "outputs": [],
   "source": [
    "ratings_with_book_titles.drop(columns=[\"ISBN\",\"Image-URL-S\",\"Image-URL-M\"],axis=1,inplace=True)"
   ]
  },
  {
   "cell_type": "markdown",
   "metadata": {},
   "source": []
  },
  {
   "cell_type": "code",
   "execution_count": null,
   "metadata": {
    "execution": {
     "iopub.execute_input": "2024-02-12T21:34:44.102248Z",
     "iopub.status.busy": "2024-02-12T21:34:44.101061Z",
     "iopub.status.idle": "2024-02-12T21:34:44.393611Z",
     "shell.execute_reply": "2024-02-12T21:34:44.391761Z",
     "shell.execute_reply.started": "2024-02-12T21:34:44.102193Z"
    }
   },
   "outputs": [],
   "source": [
    "complete_df = ratings_with_book_titles.merge(users.drop(\"Age\", axis=1), on=\"User-ID\")\n",
    "complete_df.head()"
   ]
  },
  {
   "cell_type": "markdown",
   "metadata": {},
   "source": [
    "let's perform the following :\n",
    "* Splits location strings by commas.\n",
    "* Keeps only the last part (country name).\n",
    "* Removes leading/trailing whitespaces."
   ]
  },
  {
   "cell_type": "code",
   "execution_count": null,
   "metadata": {
    "execution": {
     "iopub.execute_input": "2024-02-12T21:34:44.396262Z",
     "iopub.status.busy": "2024-02-12T21:34:44.395632Z",
     "iopub.status.idle": "2024-02-12T21:34:50.670684Z",
     "shell.execute_reply": "2024-02-12T21:34:50.66871Z",
     "shell.execute_reply.started": "2024-02-12T21:34:44.396117Z"
    }
   },
   "outputs": [],
   "source": [
    "complete_df['Location'] = complete_df['Location'].str.split(',').str[-1].str.strip()"
   ]
  },
  {
   "cell_type": "code",
   "execution_count": null,
   "metadata": {
    "execution": {
     "iopub.execute_input": "2024-02-12T21:34:50.829844Z",
     "iopub.status.busy": "2024-02-12T21:34:50.828173Z",
     "iopub.status.idle": "2024-02-12T21:34:50.848317Z",
     "shell.execute_reply": "2024-02-12T21:34:50.846997Z",
     "shell.execute_reply.started": "2024-02-12T21:34:50.829783Z"
    }
   },
   "outputs": [],
   "source": [
    "complete_df.head()"
   ]
  },
  {
   "cell_type": "markdown",
   "metadata": {},
   "source": [
    "### Collaborative Filtering Based Recommender System\n"
   ]
  },
  {
   "cell_type": "code",
   "execution_count": null,
   "metadata": {
    "execution": {
     "iopub.execute_input": "2024-02-12T21:34:50.850835Z",
     "iopub.status.busy": "2024-02-12T21:34:50.850349Z",
     "iopub.status.idle": "2024-02-12T21:34:50.903854Z",
     "shell.execute_reply": "2024-02-12T21:34:50.902508Z",
     "shell.execute_reply.started": "2024-02-12T21:34:50.850797Z"
    }
   },
   "outputs": [],
   "source": [
    "# Select user IDs with more than 200 book ratings\n",
    "min_ratings_threshold = 200\n",
    "\n",
    "# Count book ratings per user\n",
    "num_ratings_per_user = complete_df.groupby('User-ID')['Book-Rating'].count()\n",
    "\n",
    "# Filter users with more than the minimum threshold\n",
    "knowledgeable_user_ids = num_ratings_per_user[num_ratings_per_user > min_ratings_threshold].index"
   ]
  },
  {
   "cell_type": "code",
   "execution_count": null,
   "metadata": {
    "execution": {
     "iopub.execute_input": "2024-02-12T21:34:50.906302Z",
     "iopub.status.busy": "2024-02-12T21:34:50.905362Z",
     "iopub.status.idle": "2024-02-12T21:34:51.093181Z",
     "shell.execute_reply": "2024-02-12T21:34:51.091198Z",
     "shell.execute_reply.started": "2024-02-12T21:34:50.906257Z"
    }
   },
   "outputs": [],
   "source": [
    "# Filter ratings from knowledgeable users\n",
    "knowledgeable_user_ratings = complete_df[complete_df['User-ID'].isin(knowledgeable_user_ids)]"
   ]
  },
  {
   "cell_type": "code",
   "execution_count": null,
   "metadata": {
    "execution": {
     "iopub.execute_input": "2024-02-12T21:34:51.096692Z",
     "iopub.status.busy": "2024-02-12T21:34:51.096215Z",
     "iopub.status.idle": "2024-02-12T21:34:52.271132Z",
     "shell.execute_reply": "2024-02-12T21:34:52.268258Z",
     "shell.execute_reply.started": "2024-02-12T21:34:51.096657Z"
    }
   },
   "outputs": [],
   "source": [
    "min_ratings_count_threshold=50\n",
    "rating_counts= knowledgeable_user_ratings.groupby('Book-Title').count()['Book-Rating']\n",
    "popular_books = rating_counts[rating_counts >= min_ratings_count_threshold].index\n"
   ]
  },
  {
   "cell_type": "code",
   "execution_count": null,
   "metadata": {
    "execution": {
     "iopub.execute_input": "2024-02-12T21:34:52.274127Z",
     "iopub.status.busy": "2024-02-12T21:34:52.273369Z",
     "iopub.status.idle": "2024-02-12T21:34:52.406347Z",
     "shell.execute_reply": "2024-02-12T21:34:52.405097Z",
     "shell.execute_reply.started": "2024-02-12T21:34:52.27407Z"
    }
   },
   "outputs": [],
   "source": [
    "final_ratings =  knowledgeable_user_ratings[knowledgeable_user_ratings['Book-Title'].isin(popular_books)]"
   ]
  },
  {
   "cell_type": "code",
   "execution_count": null,
   "metadata": {
    "execution": {
     "iopub.execute_input": "2024-02-12T21:34:52.409434Z",
     "iopub.status.busy": "2024-02-12T21:34:52.408295Z",
     "iopub.status.idle": "2024-02-12T21:34:52.516872Z",
     "shell.execute_reply": "2024-02-12T21:34:52.515307Z",
     "shell.execute_reply.started": "2024-02-12T21:34:52.40939Z"
    }
   },
   "outputs": [],
   "source": [
    "pt = final_ratings.pivot_table(index='Book-Title',columns='User-ID'\n",
    "                          ,values='Book-Rating')\n",
    "pt"
   ]
  },
  {
   "cell_type": "code",
   "execution_count": null,
   "metadata": {
    "execution": {
     "iopub.execute_input": "2024-02-12T21:34:52.518959Z",
     "iopub.status.busy": "2024-02-12T21:34:52.518523Z",
     "iopub.status.idle": "2024-02-12T21:34:52.591546Z",
     "shell.execute_reply": "2024-02-12T21:34:52.589518Z",
     "shell.execute_reply.started": "2024-02-12T21:34:52.518907Z"
    }
   },
   "outputs": [],
   "source": [
    "pt.fillna(0,inplace=True)\n",
    "pt"
   ]
  },
  {
   "cell_type": "markdown",
   "metadata": {},
   "source": [
    "we need to find the cosine similarity for our pivot table \n",
    "\n",
    "cosine_similarity takes a matrix as input, where each row represents a data point and each column represents a feature. In our case, the rows represent users, and the columns represent book titles.\n",
    "The function calculates the cosine similarity between every pair of rows (users) in the matrix. Cosine similarity measures the angle between two vectors; a score of 1 indicates perfect similarity, while 0 indicates perfect dissimilarity.\n",
    "The output of the function is a new square matrix where each element (i, j) represents the cosine similarity score between user i and user j.\n",
    "\n",
    "In the context of a recommender system:\n",
    "\n",
    "We can use this matrix to recommend items to users based on their similarity to other users who have rated those books highly.\n",
    "For example, you can find the user with the highest cosine similarity to a particular user and recommend the items that the similar user rated highly."
   ]
  },
  {
   "cell_type": "code",
   "execution_count": null,
   "metadata": {
    "execution": {
     "iopub.execute_input": "2024-02-12T21:34:52.594036Z",
     "iopub.status.busy": "2024-02-12T21:34:52.593532Z",
     "iopub.status.idle": "2024-02-12T21:34:52.601741Z",
     "shell.execute_reply": "2024-02-12T21:34:52.600081Z",
     "shell.execute_reply.started": "2024-02-12T21:34:52.593991Z"
    }
   },
   "outputs": [],
   "source": [
    "from sklearn.metrics.pairwise import cosine_similarity "
   ]
  },
  {
   "cell_type": "code",
   "execution_count": null,
   "metadata": {
    "execution": {
     "iopub.execute_input": "2024-02-12T21:34:52.604182Z",
     "iopub.status.busy": "2024-02-12T21:34:52.603701Z",
     "iopub.status.idle": "2024-02-12T21:34:52.637203Z",
     "shell.execute_reply": "2024-02-12T21:34:52.63509Z",
     "shell.execute_reply.started": "2024-02-12T21:34:52.60415Z"
    }
   },
   "outputs": [],
   "source": [
    "similarity_score = cosine_similarity(pt)"
   ]
  },
  {
   "cell_type": "code",
   "execution_count": null,
   "metadata": {
    "execution": {
     "iopub.execute_input": "2024-02-12T21:34:52.641628Z",
     "iopub.status.busy": "2024-02-12T21:34:52.640417Z",
     "iopub.status.idle": "2024-02-12T21:34:52.674087Z",
     "shell.execute_reply": "2024-02-12T21:34:52.671278Z",
     "shell.execute_reply.started": "2024-02-12T21:34:52.641558Z"
    }
   },
   "outputs": [],
   "source": [
    "def recommend(book_name):\n",
    "    index = np.where(pt.index==book_name)[0][0]\n",
    "    similar_books = sorted(list(enumerate(similarity_score[index])),key=lambda x:x[1], reverse=True)[1:6]\n",
    "    \n",
    "    data = []\n",
    "    \n",
    "    for i in similar_books:\n",
    "        item = []\n",
    "        temp_df = books[books['Book-Title'] == pt.index[i[0]]]\n",
    "        item.extend(list(temp_df.drop_duplicates('Book-Title')['Book-Title'].values))\n",
    "        item.extend(list(temp_df.drop_duplicates('Book-Title')['Book-Author'].values))\n",
    "        item.extend(list(temp_df.drop_duplicates('Book-Title')['Image-URL-M'].values))\n",
    "        \n",
    "        data.append(item)\n",
    "    return data"
   ]
  },
  {
   "cell_type": "code",
   "execution_count": null,
   "metadata": {
    "execution": {
     "iopub.execute_input": "2024-02-12T21:34:52.692251Z",
     "iopub.status.busy": "2024-02-12T21:34:52.684966Z",
     "iopub.status.idle": "2024-02-12T21:34:53.026206Z",
     "shell.execute_reply": "2024-02-12T21:34:53.023908Z",
     "shell.execute_reply.started": "2024-02-12T21:34:52.692141Z"
    }
   },
   "outputs": [],
   "source": [
    "recommend(\"A Walk to Remember\")"
   ]
  },
  {
   "cell_type": "code",
   "execution_count": null,
   "metadata": {
    "execution": {
     "iopub.execute_input": "2024-02-12T21:34:53.03065Z",
     "iopub.status.busy": "2024-02-12T21:34:53.028751Z",
     "iopub.status.idle": "2024-02-12T21:34:53.338242Z",
     "shell.execute_reply": "2024-02-12T21:34:53.336497Z",
     "shell.execute_reply.started": "2024-02-12T21:34:53.03057Z"
    }
   },
   "outputs": [],
   "source": [
    "recommend(\"Prodigal Summer\")"
   ]
  },
  {
   "cell_type": "code",
   "execution_count": null,
   "metadata": {
    "execution": {
     "iopub.execute_input": "2024-02-12T21:34:53.341772Z",
     "iopub.status.busy": "2024-02-12T21:34:53.339796Z",
     "iopub.status.idle": "2024-02-12T21:34:53.657447Z",
     "shell.execute_reply": "2024-02-12T21:34:53.655866Z",
     "shell.execute_reply.started": "2024-02-12T21:34:53.341704Z"
    }
   },
   "outputs": [],
   "source": [
    "recommend(\"1984\")"
   ]
  },
  {
   "cell_type": "code",
   "execution_count": null,
   "metadata": {
    "execution": {
     "iopub.execute_input": "2024-02-12T21:34:53.659903Z",
     "iopub.status.busy": "2024-02-12T21:34:53.659433Z",
     "iopub.status.idle": "2024-02-12T21:34:53.961253Z",
     "shell.execute_reply": "2024-02-12T21:34:53.959049Z",
     "shell.execute_reply.started": "2024-02-12T21:34:53.659867Z"
    }
   },
   "outputs": [],
   "source": [
    "recommend(\"Harry Potter and the Goblet of Fire (Book 4)\")"
   ]
  },
  {
   "cell_type": "markdown",
   "metadata": {},
   "source": [
    "# Let's Try SVD algorithm for our recommendation system:\n",
    "SVD, or Singular Value Decomposition, is a popular algorithm for collaborative filtering based on matrix factorization. It decomposes the user-item rating matrix into two smaller matrices:\n",
    "\n",
    "* User latent factors: These represent \"underlying preferences\" or hidden characteristics of users.\n",
    "* Item latent factors: These represent \"intrinsic features\" or characteristics of items.\n",
    "When multiplied together, these two matrices approximate the original rating matrix."
   ]
  },
  {
   "cell_type": "code",
   "execution_count": null,
   "metadata": {
    "execution": {
     "iopub.execute_input": "2024-02-12T21:34:53.969925Z",
     "iopub.status.busy": "2024-02-12T21:34:53.969246Z",
     "iopub.status.idle": "2024-02-12T21:35:12.272696Z",
     "shell.execute_reply": "2024-02-12T21:35:12.270118Z",
     "shell.execute_reply.started": "2024-02-12T21:34:53.969876Z"
    }
   },
   "outputs": [],
   "source": [
    "# Install Surprise library\n",
    "!pip install scikit-surprise"
   ]
  },
  {
   "cell_type": "code",
   "execution_count": null,
   "metadata": {
    "execution": {
     "iopub.execute_input": "2024-02-12T21:35:12.276687Z",
     "iopub.status.busy": "2024-02-12T21:35:12.276124Z",
     "iopub.status.idle": "2024-02-12T21:35:52.676433Z",
     "shell.execute_reply": "2024-02-12T21:35:52.674419Z",
     "shell.execute_reply.started": "2024-02-12T21:35:12.276647Z"
    }
   },
   "outputs": [],
   "source": [
    "import pandas as pd\n",
    "from surprise import Dataset, Reader, SVD\n",
    "from surprise.model_selection import train_test_split\n",
    "from surprise import accuracy\n",
    "\n",
    "# Define the rating scale\n",
    "reader = Reader(rating_scale=(0, 10))\n",
    "\n",
    "# Load the data into Surprise's dataset format\n",
    "data = Dataset.load_from_df(complete_df[['User-ID', 'Book-Title', 'Book-Rating']], reader)\n",
    "\n",
    "# Split the dataset into training and testing sets\n",
    "train_set, test_set = train_test_split(data, test_size=0.20, random_state=42)\n",
    "\n",
    "# Define the SVD algorithm\n",
    "model = SVD()\n",
    "\n",
    "# Train the algorithm on the training set\n",
    "model.fit(train_set)\n",
    "\n",
    "# Make predictions on the test set\n",
    "predictions = model.test(test_set)\n",
    "\n",
    "# Evaluate the model\n",
    "accuracy.rmse(predictions)\n"
   ]
  },
  {
   "cell_type": "markdown",
   "metadata": {},
   "source": [
    "**Interpretation of RMSE:**\n",
    "\n",
    "Root Mean Squared Error (RMSE) measures the average difference between predicted and actual ratings. Lower RMSE indicates better model performance.\n",
    "In our case: An RMSE of 3.5208 means that, on average, our model's predictions are off by about 3.52 units on a scale of the scale of the ratings (0 to 10)."
   ]
  },
  {
   "cell_type": "code",
   "execution_count": null,
   "metadata": {
    "execution": {
     "iopub.execute_input": "2024-02-12T21:35:52.681146Z",
     "iopub.status.busy": "2024-02-12T21:35:52.679329Z",
     "iopub.status.idle": "2024-02-12T21:35:52.697736Z",
     "shell.execute_reply": "2024-02-12T21:35:52.695119Z",
     "shell.execute_reply.started": "2024-02-12T21:35:52.681064Z"
    }
   },
   "outputs": [],
   "source": [
    "def recommend_books(user_id, n=10):\n",
    "    # List all unique book titles\n",
    "    all_books = complete_df['Book-Title'].unique()\n",
    "\n",
    "    # Remove books already rated by the user\n",
    "    rated_books = complete_df[complete_df['User-ID'] == user_id]['Book-Title'].values\n",
    "    books_to_predict = [book for book in all_books if book not in rated_books]\n",
    "\n",
    "    # Predict ratings for remaining books\n",
    "    predictions = []\n",
    "    for book in books_to_predict:\n",
    "        pred = model.predict(user_id, book)\n",
    "        predictions.append((book, pred.est))\n",
    "\n",
    "    # Sort predictions by estimated rating\n",
    "    predictions.sort(key=lambda x: x[1], reverse=True)\n",
    "\n",
    "    # Get top N recommendations\n",
    "    top_n = predictions[:n]\n",
    "\n",
    "    return top_n\n"
   ]
  },
  {
   "cell_type": "markdown",
   "metadata": {},
   "source": [
    "**Let's use our model to find the Top 10 recommended books for user 271705:**"
   ]
  },
  {
   "cell_type": "code",
   "execution_count": null,
   "metadata": {
    "execution": {
     "iopub.execute_input": "2024-02-12T21:35:52.701234Z",
     "iopub.status.busy": "2024-02-12T21:35:52.700494Z",
     "iopub.status.idle": "2024-02-12T21:36:01.324136Z",
     "shell.execute_reply": "2024-02-12T21:36:01.323085Z",
     "shell.execute_reply.started": "2024-02-12T21:35:52.701178Z"
    }
   },
   "outputs": [],
   "source": [
    "user_id = 271705\n",
    "recommended_books = recommend_books(user_id)\n",
    "print(f\"Top 10 recommended books for user {user_id}:\")\n",
    "for i, (title, _) in enumerate(recommended_books, start=1):\n",
    "    print(f\"{i}. {title}\")"
   ]
  }
 ],
 "metadata": {
  "kaggle": {
   "accelerator": "none",
   "dataSources": [
    {
     "datasetId": 1004280,
     "sourceId": 7595263,
     "sourceType": "datasetVersion"
    }
   ],
   "dockerImageVersionId": 30646,
   "isGpuEnabled": false,
   "isInternetEnabled": true,
   "language": "python",
   "sourceType": "notebook"
  },
  "kernelspec": {
   "display_name": "Python 3 (ipykernel)",
   "language": "python",
   "name": "python3"
  },
  "language_info": {
   "codemirror_mode": {
    "name": "ipython",
    "version": 3
   },
   "file_extension": ".py",
   "mimetype": "text/x-python",
   "name": "python",
   "nbconvert_exporter": "python",
   "pygments_lexer": "ipython3",
   "version": "3.10.0"
  }
 },
 "nbformat": 4,
 "nbformat_minor": 4
}
